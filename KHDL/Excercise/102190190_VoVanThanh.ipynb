{
 "cells": [
  {
   "cell_type": "markdown",
   "metadata": {},
   "source": [
    "# Bài tập Khoa học dữ liệu\n",
    "\n",
    "Tên: Võ Văn Thành\n",
    "\n",
    "MSV: 102190190\n",
    "\n",
    "[Dataset](https://www.kaggle.com/datasets/chuckephron/leagueoflegends)\n"
   ]
  },
  {
   "cell_type": "markdown",
   "metadata": {},
   "source": [
    "# Chung"
   ]
  },
  {
   "cell_type": "markdown",
   "metadata": {},
   "source": [
    "Import thư viện"
   ]
  },
  {
   "cell_type": "code",
   "execution_count": 1,
   "metadata": {},
   "outputs": [],
   "source": [
    "from sklearn.metrics import confusion_matrix, classification_report, accuracy_score\n",
    "import warnings\n",
    "from sklearn.model_selection import GridSearchCV\n",
    "from sklearn.model_selection import RepeatedStratifiedKFold\n",
    "from sklearn.linear_model import LogisticRegression\n",
    "from sklearn.model_selection import train_test_split\n",
    "from statsmodels.stats.outliers_influence import variance_inflation_factor\n",
    "from patsy import dmatrices\n",
    "from ast import literal_eval\n",
    "from pandas import DataFrame\n",
    "import numpy as np\n",
    "import pandas as pd\n",
    "import seaborn as sns\n",
    "import matplotlib.pyplot as plt\n",
    "import seaborn as sns\n",
    "%matplotlib inline\n",
    "\n",
    "\n",
    "warnings.filterwarnings('ignore')\n",
    "\n",
    "plt.rcParams['figure.facecolor'] = 'white'\n"
   ]
  },
  {
   "cell_type": "markdown",
   "metadata": {},
   "source": [
    "Load dataset"
   ]
  },
  {
   "cell_type": "code",
   "execution_count": 2,
   "metadata": {},
   "outputs": [
    {
     "data": {
      "text/html": [
       "<div>\n",
       "<style scoped>\n",
       "    .dataframe tbody tr th:only-of-type {\n",
       "        vertical-align: middle;\n",
       "    }\n",
       "\n",
       "    .dataframe tbody tr th {\n",
       "        vertical-align: top;\n",
       "    }\n",
       "\n",
       "    .dataframe thead th {\n",
       "        text-align: right;\n",
       "    }\n",
       "</style>\n",
       "<table border=\"1\" class=\"dataframe\">\n",
       "  <thead>\n",
       "    <tr style=\"text-align: right;\">\n",
       "      <th></th>\n",
       "      <th>League</th>\n",
       "      <th>Year</th>\n",
       "      <th>blueTeamTag</th>\n",
       "      <th>bResult</th>\n",
       "      <th>rResult</th>\n",
       "      <th>redTeamTag</th>\n",
       "      <th>gamelength</th>\n",
       "      <th>goldblue</th>\n",
       "      <th>bKills</th>\n",
       "      <th>bTowers</th>\n",
       "      <th>...</th>\n",
       "      <th>bDragons</th>\n",
       "      <th>bBarons</th>\n",
       "      <th>bHeralds</th>\n",
       "      <th>goldred</th>\n",
       "      <th>rKills</th>\n",
       "      <th>rTowers</th>\n",
       "      <th>rInhibs</th>\n",
       "      <th>rDragons</th>\n",
       "      <th>rBarons</th>\n",
       "      <th>rHeralds</th>\n",
       "    </tr>\n",
       "  </thead>\n",
       "  <tbody>\n",
       "    <tr>\n",
       "      <th>0</th>\n",
       "      <td>NALCS</td>\n",
       "      <td>2017</td>\n",
       "      <td>TSM</td>\n",
       "      <td>0</td>\n",
       "      <td>1</td>\n",
       "      <td>C9</td>\n",
       "      <td>41</td>\n",
       "      <td>[2500, 2500, 2754, 4375, 5710, 7232, 8572, 999...</td>\n",
       "      <td>[[12.634, 'C9 Smoothie', 'TSM Biofrost', ['TSM...</td>\n",
       "      <td>[[23.907, 'MID_LANE', 'OUTER_TURRET'], [24.667...</td>\n",
       "      <td>...</td>\n",
       "      <td>[[31.477, 'FIRE_DRAGON'], [18.906, 'AIR_DRAGON...</td>\n",
       "      <td>[[21.947]]</td>\n",
       "      <td>[]</td>\n",
       "      <td>[2500, 2500, 2734, 4166, 5741, 7195, 8610, 101...</td>\n",
       "      <td>[[11.827, 'TSM WildTurtle', 'C9 Contractz', ['...</td>\n",
       "      <td>[[34.173, 'BOT_LANE', 'BASE_TURRET'], [40.237,...</td>\n",
       "      <td>[[39.531, 'BOT_LANE']]</td>\n",
       "      <td>[[38.477, 'ELDER_DRAGON'], [12.416, 'AIR_DRAGO...</td>\n",
       "      <td>[[36.328]]</td>\n",
       "      <td>[]</td>\n",
       "    </tr>\n",
       "    <tr>\n",
       "      <th>1</th>\n",
       "      <td>NALCS</td>\n",
       "      <td>2017</td>\n",
       "      <td>C9</td>\n",
       "      <td>1</td>\n",
       "      <td>0</td>\n",
       "      <td>TSM</td>\n",
       "      <td>37</td>\n",
       "      <td>[2500, 2500, 2651, 4090, 5708, 7121, 8678, 106...</td>\n",
       "      <td>[[6.818, 'TSM Bjergsen', 'C9 Contractz', ['C9 ...</td>\n",
       "      <td>[[21.425, 'MID_LANE', 'INNER_TURRET'], [31.576...</td>\n",
       "      <td>...</td>\n",
       "      <td>[[25.086, 'EARTH_DRAGON'], [18.828, 'AIR_DRAGO...</td>\n",
       "      <td>[]</td>\n",
       "      <td>[[17.209]]</td>\n",
       "      <td>[2500, 2500, 2736, 4277, 5846, 7136, 8725, 100...</td>\n",
       "      <td>[[13.099, 'C9 Smoothie', 'TSM Svenskeren', ['T...</td>\n",
       "      <td>[[19.222, 'TOP_LANE', 'OUTER_TURRET'], [24.044...</td>\n",
       "      <td>[]</td>\n",
       "      <td>[]</td>\n",
       "      <td>[[28.447]]</td>\n",
       "      <td>[]</td>\n",
       "    </tr>\n",
       "    <tr>\n",
       "      <th>2</th>\n",
       "      <td>NALCS</td>\n",
       "      <td>2017</td>\n",
       "      <td>FOX</td>\n",
       "      <td>0</td>\n",
       "      <td>1</td>\n",
       "      <td>P1</td>\n",
       "      <td>39</td>\n",
       "      <td>[2500, 2500, 2752, 4181, 6258, 7750, 9199, 112...</td>\n",
       "      <td>[[3.049, 'P1 Ryu', 'FOX Akaadian', ['FOX Frogg...</td>\n",
       "      <td>[[17.12, 'TOP_LANE', 'OUTER_TURRET'], [32.589,...</td>\n",
       "      <td>...</td>\n",
       "      <td>[[32.18, 'FIRE_DRAGON']]</td>\n",
       "      <td>[[30.011]]</td>\n",
       "      <td>[]</td>\n",
       "      <td>[2500, 2500, 2678, 4048, 5421, 6750, 8195, 967...</td>\n",
       "      <td>[[6.011, 'FOX Akaadian', 'P1 Ryu', ['P1 Inori'...</td>\n",
       "      <td>[[36.103, 'MID_LANE', 'BASE_TURRET'], [37.984,...</td>\n",
       "      <td>[[36.19, 'MID_LANE']]</td>\n",
       "      <td>[[25.937, 'AIR_DRAGON'], [15.185, 'FIRE_DRAGON']]</td>\n",
       "      <td>[]</td>\n",
       "      <td>[]</td>\n",
       "    </tr>\n",
       "    <tr>\n",
       "      <th>3</th>\n",
       "      <td>NALCS</td>\n",
       "      <td>2017</td>\n",
       "      <td>P1</td>\n",
       "      <td>1</td>\n",
       "      <td>0</td>\n",
       "      <td>FOX</td>\n",
       "      <td>25</td>\n",
       "      <td>[2500, 2500, 2752, 4075, 5543, 7052, 8179, 967...</td>\n",
       "      <td>[[10.351, 'FOX Looper', 'P1 zig', ['P1 Inori',...</td>\n",
       "      <td>[[13.671, 'BOT_LANE', 'OUTER_TURRET'], [23.386...</td>\n",
       "      <td>...</td>\n",
       "      <td>[[14.287, 'AIR_DRAGON']]</td>\n",
       "      <td>[[21.758]]</td>\n",
       "      <td>[]</td>\n",
       "      <td>[2500, 2520, 2775, 4153, 5727, 7282, 9208, 105...</td>\n",
       "      <td>[[5.296, 'P1 Inori', 'FOX Akaadian', ['FOX Loo...</td>\n",
       "      <td>[[13.925, 'TOP_LANE', 'OUTER_TURRET'], [17.556...</td>\n",
       "      <td>[]</td>\n",
       "      <td>[[20.939, 'FIRE_DRAGON']]</td>\n",
       "      <td>[]</td>\n",
       "      <td>[]</td>\n",
       "    </tr>\n",
       "    <tr>\n",
       "      <th>4</th>\n",
       "      <td>NALCS</td>\n",
       "      <td>2017</td>\n",
       "      <td>CLG</td>\n",
       "      <td>0</td>\n",
       "      <td>1</td>\n",
       "      <td>TL</td>\n",
       "      <td>35</td>\n",
       "      <td>[2500, 2500, 2740, 4101, 5506, 6946, 8235, 948...</td>\n",
       "      <td>[[8.541, 'TL Piglet', 'CLG aphromoo', ['CLG St...</td>\n",
       "      <td>[[23.801, 'MID_LANE', 'OUTER_TURRET'], [24.919...</td>\n",
       "      <td>...</td>\n",
       "      <td>[[15.874, 'EARTH_DRAGON']]</td>\n",
       "      <td>[[34.232]]</td>\n",
       "      <td>[]</td>\n",
       "      <td>[2500, 2500, 2789, 4322, 5868, 7295, 8724, 101...</td>\n",
       "      <td>[[8.52, 'CLG Stixxay', 'TL Matt', ['TL Reignov...</td>\n",
       "      <td>[[16.291, 'BOT_LANE', 'OUTER_TURRET'], [29.924...</td>\n",
       "      <td>[[28.315, 'BOT_LANE'], [34.3, 'BOT_LANE']]</td>\n",
       "      <td>[[9.273, 'FIRE_DRAGON'], [28.655, 'FIRE_DRAGON...</td>\n",
       "      <td>[[26.156]]</td>\n",
       "      <td>[]</td>\n",
       "    </tr>\n",
       "  </tbody>\n",
       "</table>\n",
       "<p>5 rows × 21 columns</p>\n",
       "</div>"
      ],
      "text/plain": [
       "  League  Year blueTeamTag  bResult  rResult redTeamTag  gamelength  \\\n",
       "0  NALCS  2017         TSM        0        1         C9          41   \n",
       "1  NALCS  2017          C9        1        0        TSM          37   \n",
       "2  NALCS  2017         FOX        0        1         P1          39   \n",
       "3  NALCS  2017          P1        1        0        FOX          25   \n",
       "4  NALCS  2017         CLG        0        1         TL          35   \n",
       "\n",
       "                                            goldblue  \\\n",
       "0  [2500, 2500, 2754, 4375, 5710, 7232, 8572, 999...   \n",
       "1  [2500, 2500, 2651, 4090, 5708, 7121, 8678, 106...   \n",
       "2  [2500, 2500, 2752, 4181, 6258, 7750, 9199, 112...   \n",
       "3  [2500, 2500, 2752, 4075, 5543, 7052, 8179, 967...   \n",
       "4  [2500, 2500, 2740, 4101, 5506, 6946, 8235, 948...   \n",
       "\n",
       "                                              bKills  \\\n",
       "0  [[12.634, 'C9 Smoothie', 'TSM Biofrost', ['TSM...   \n",
       "1  [[6.818, 'TSM Bjergsen', 'C9 Contractz', ['C9 ...   \n",
       "2  [[3.049, 'P1 Ryu', 'FOX Akaadian', ['FOX Frogg...   \n",
       "3  [[10.351, 'FOX Looper', 'P1 zig', ['P1 Inori',...   \n",
       "4  [[8.541, 'TL Piglet', 'CLG aphromoo', ['CLG St...   \n",
       "\n",
       "                                             bTowers  ...  \\\n",
       "0  [[23.907, 'MID_LANE', 'OUTER_TURRET'], [24.667...  ...   \n",
       "1  [[21.425, 'MID_LANE', 'INNER_TURRET'], [31.576...  ...   \n",
       "2  [[17.12, 'TOP_LANE', 'OUTER_TURRET'], [32.589,...  ...   \n",
       "3  [[13.671, 'BOT_LANE', 'OUTER_TURRET'], [23.386...  ...   \n",
       "4  [[23.801, 'MID_LANE', 'OUTER_TURRET'], [24.919...  ...   \n",
       "\n",
       "                                            bDragons     bBarons    bHeralds  \\\n",
       "0  [[31.477, 'FIRE_DRAGON'], [18.906, 'AIR_DRAGON...  [[21.947]]          []   \n",
       "1  [[25.086, 'EARTH_DRAGON'], [18.828, 'AIR_DRAGO...          []  [[17.209]]   \n",
       "2                           [[32.18, 'FIRE_DRAGON']]  [[30.011]]          []   \n",
       "3                           [[14.287, 'AIR_DRAGON']]  [[21.758]]          []   \n",
       "4                         [[15.874, 'EARTH_DRAGON']]  [[34.232]]          []   \n",
       "\n",
       "                                             goldred  \\\n",
       "0  [2500, 2500, 2734, 4166, 5741, 7195, 8610, 101...   \n",
       "1  [2500, 2500, 2736, 4277, 5846, 7136, 8725, 100...   \n",
       "2  [2500, 2500, 2678, 4048, 5421, 6750, 8195, 967...   \n",
       "3  [2500, 2520, 2775, 4153, 5727, 7282, 9208, 105...   \n",
       "4  [2500, 2500, 2789, 4322, 5868, 7295, 8724, 101...   \n",
       "\n",
       "                                              rKills  \\\n",
       "0  [[11.827, 'TSM WildTurtle', 'C9 Contractz', ['...   \n",
       "1  [[13.099, 'C9 Smoothie', 'TSM Svenskeren', ['T...   \n",
       "2  [[6.011, 'FOX Akaadian', 'P1 Ryu', ['P1 Inori'...   \n",
       "3  [[5.296, 'P1 Inori', 'FOX Akaadian', ['FOX Loo...   \n",
       "4  [[8.52, 'CLG Stixxay', 'TL Matt', ['TL Reignov...   \n",
       "\n",
       "                                             rTowers  \\\n",
       "0  [[34.173, 'BOT_LANE', 'BASE_TURRET'], [40.237,...   \n",
       "1  [[19.222, 'TOP_LANE', 'OUTER_TURRET'], [24.044...   \n",
       "2  [[36.103, 'MID_LANE', 'BASE_TURRET'], [37.984,...   \n",
       "3  [[13.925, 'TOP_LANE', 'OUTER_TURRET'], [17.556...   \n",
       "4  [[16.291, 'BOT_LANE', 'OUTER_TURRET'], [29.924...   \n",
       "\n",
       "                                      rInhibs  \\\n",
       "0                      [[39.531, 'BOT_LANE']]   \n",
       "1                                          []   \n",
       "2                       [[36.19, 'MID_LANE']]   \n",
       "3                                          []   \n",
       "4  [[28.315, 'BOT_LANE'], [34.3, 'BOT_LANE']]   \n",
       "\n",
       "                                            rDragons     rBarons rHeralds  \n",
       "0  [[38.477, 'ELDER_DRAGON'], [12.416, 'AIR_DRAGO...  [[36.328]]       []  \n",
       "1                                                 []  [[28.447]]       []  \n",
       "2  [[25.937, 'AIR_DRAGON'], [15.185, 'FIRE_DRAGON']]          []       []  \n",
       "3                          [[20.939, 'FIRE_DRAGON']]          []       []  \n",
       "4  [[9.273, 'FIRE_DRAGON'], [28.655, 'FIRE_DRAGON...  [[26.156]]       []  \n",
       "\n",
       "[5 rows x 21 columns]"
      ]
     },
     "execution_count": 2,
     "metadata": {},
     "output_type": "execute_result"
    }
   ],
   "source": [
    "df = pd.read_csv(\"LeagueofLegends.csv\")\n",
    "df.head()\n"
   ]
  },
  {
   "cell_type": "markdown",
   "metadata": {},
   "source": [
    "Các cột trong dataset\n"
   ]
  },
  {
   "cell_type": "code",
   "execution_count": 3,
   "metadata": {},
   "outputs": [
    {
     "name": "stdout",
     "output_type": "stream",
     "text": [
      "<class 'pandas.core.frame.DataFrame'>\n",
      "RangeIndex: 1671 entries, 0 to 1670\n",
      "Data columns (total 21 columns):\n",
      " #   Column       Non-Null Count  Dtype \n",
      "---  ------       --------------  ----- \n",
      " 0   League       1671 non-null   object\n",
      " 1   Year         1671 non-null   int64 \n",
      " 2   blueTeamTag  1671 non-null   object\n",
      " 3   bResult      1671 non-null   int64 \n",
      " 4   rResult      1671 non-null   int64 \n",
      " 5   redTeamTag   1671 non-null   object\n",
      " 6   gamelength   1671 non-null   int64 \n",
      " 7   goldblue     1671 non-null   object\n",
      " 8   bKills       1671 non-null   object\n",
      " 9   bTowers      1671 non-null   object\n",
      " 10  bInhibs      1671 non-null   object\n",
      " 11  bDragons     1671 non-null   object\n",
      " 12  bBarons      1671 non-null   object\n",
      " 13  bHeralds     1671 non-null   object\n",
      " 14  goldred      1671 non-null   object\n",
      " 15  rKills       1671 non-null   object\n",
      " 16  rTowers      1671 non-null   object\n",
      " 17  rInhibs      1671 non-null   object\n",
      " 18  rDragons     1671 non-null   object\n",
      " 19  rBarons      1671 non-null   object\n",
      " 20  rHeralds     1671 non-null   object\n",
      "dtypes: int64(4), object(17)\n",
      "memory usage: 274.3+ KB\n"
     ]
    }
   ],
   "source": [
    "df.info()\n"
   ]
  },
  {
   "cell_type": "markdown",
   "metadata": {},
   "source": [
    "Kiểm tra dữ liệu rỗng"
   ]
  },
  {
   "cell_type": "code",
   "execution_count": 4,
   "metadata": {},
   "outputs": [
    {
     "data": {
      "text/plain": [
       "League         0\n",
       "Year           0\n",
       "blueTeamTag    0\n",
       "bResult        0\n",
       "rResult        0\n",
       "redTeamTag     0\n",
       "gamelength     0\n",
       "goldblue       0\n",
       "bKills         0\n",
       "bTowers        0\n",
       "bInhibs        0\n",
       "bDragons       0\n",
       "bBarons        0\n",
       "bHeralds       0\n",
       "goldred        0\n",
       "rKills         0\n",
       "rTowers        0\n",
       "rInhibs        0\n",
       "rDragons       0\n",
       "rBarons        0\n",
       "rHeralds       0\n",
       "dtype: int64"
      ]
     },
     "execution_count": 4,
     "metadata": {},
     "output_type": "execute_result"
    }
   ],
   "source": [
    "df.isnull().sum()\n"
   ]
  },
  {
   "cell_type": "markdown",
   "metadata": {},
   "source": [
    "Chuyển dữ liệu từ các cột goldblue bKills, bTowers, bInhibs, bDragons, bBarons, bHeralds, goldred, rKills, rTowers, rInhibs, rDragons, rBarons, rHeralds từ string thành kiểu list"
   ]
  },
  {
   "cell_type": "code",
   "execution_count": 5,
   "metadata": {},
   "outputs": [
    {
     "data": {
      "text/plain": [
       "str"
      ]
     },
     "execution_count": 5,
     "metadata": {},
     "output_type": "execute_result"
    }
   ],
   "source": [
    "type(df['goldblue'][0])\n"
   ]
  },
  {
   "cell_type": "code",
   "execution_count": 6,
   "metadata": {},
   "outputs": [],
   "source": [
    "column_name = ['goldblue', 'bKills', 'bTowers', 'bInhibs', 'bDragons', 'bBarons', 'bHeralds',\n",
    "               'goldred', 'rKills', 'rTowers', 'rInhibs', 'rDragons', 'rBarons', 'rHeralds']\n",
    "for column in column_name:\n",
    "    df[column] = df[column].apply(literal_eval)"
   ]
  },
  {
   "cell_type": "code",
   "execution_count": 7,
   "metadata": {},
   "outputs": [
    {
     "data": {
      "text/plain": [
       "list"
      ]
     },
     "execution_count": 7,
     "metadata": {},
     "output_type": "execute_result"
    }
   ],
   "source": [
    "type(df['goldblue'][0])"
   ]
  },
  {
   "cell_type": "markdown",
   "metadata": {},
   "source": [
    "# EDA"
   ]
  },
  {
   "cell_type": "markdown",
   "metadata": {},
   "source": [
    "Đếm số lượng mục tiêu từ list mục tiêu có được ở các trường vừa chuyển đổi"
   ]
  },
  {
   "cell_type": "code",
   "execution_count": 8,
   "metadata": {},
   "outputs": [
    {
     "data": {
      "text/html": [
       "<div>\n",
       "<style scoped>\n",
       "    .dataframe tbody tr th:only-of-type {\n",
       "        vertical-align: middle;\n",
       "    }\n",
       "\n",
       "    .dataframe tbody tr th {\n",
       "        vertical-align: top;\n",
       "    }\n",
       "\n",
       "    .dataframe thead th {\n",
       "        text-align: right;\n",
       "    }\n",
       "</style>\n",
       "<table border=\"1\" class=\"dataframe\">\n",
       "  <thead>\n",
       "    <tr style=\"text-align: right;\">\n",
       "      <th></th>\n",
       "      <th>blue_kills</th>\n",
       "      <th>blue_towers</th>\n",
       "      <th>blue_inhibs</th>\n",
       "      <th>blue_dragons</th>\n",
       "      <th>blue_barons</th>\n",
       "      <th>blue_heralds</th>\n",
       "      <th>blue_end_gold</th>\n",
       "      <th>red_kills</th>\n",
       "      <th>red_towers</th>\n",
       "      <th>red_inhibs</th>\n",
       "      <th>red_dragons</th>\n",
       "      <th>red_barons</th>\n",
       "      <th>red_heralds</th>\n",
       "      <th>red_end_gold</th>\n",
       "      <th>result</th>\n",
       "    </tr>\n",
       "  </thead>\n",
       "  <tbody>\n",
       "    <tr>\n",
       "      <th>0</th>\n",
       "      <td>12</td>\n",
       "      <td>5</td>\n",
       "      <td>0</td>\n",
       "      <td>3</td>\n",
       "      <td>1</td>\n",
       "      <td>0</td>\n",
       "      <td>68888</td>\n",
       "      <td>20</td>\n",
       "      <td>11</td>\n",
       "      <td>1</td>\n",
       "      <td>2</td>\n",
       "      <td>1</td>\n",
       "      <td>0</td>\n",
       "      <td>81542</td>\n",
       "      <td>1</td>\n",
       "    </tr>\n",
       "    <tr>\n",
       "      <th>1</th>\n",
       "      <td>24</td>\n",
       "      <td>8</td>\n",
       "      <td>2</td>\n",
       "      <td>4</td>\n",
       "      <td>0</td>\n",
       "      <td>1</td>\n",
       "      <td>68306</td>\n",
       "      <td>10</td>\n",
       "      <td>2</td>\n",
       "      <td>0</td>\n",
       "      <td>0</td>\n",
       "      <td>1</td>\n",
       "      <td>0</td>\n",
       "      <td>62122</td>\n",
       "      <td>0</td>\n",
       "    </tr>\n",
       "    <tr>\n",
       "      <th>2</th>\n",
       "      <td>16</td>\n",
       "      <td>4</td>\n",
       "      <td>0</td>\n",
       "      <td>1</td>\n",
       "      <td>1</td>\n",
       "      <td>0</td>\n",
       "      <td>66224</td>\n",
       "      <td>22</td>\n",
       "      <td>7</td>\n",
       "      <td>1</td>\n",
       "      <td>2</td>\n",
       "      <td>0</td>\n",
       "      <td>0</td>\n",
       "      <td>68027</td>\n",
       "      <td>1</td>\n",
       "    </tr>\n",
       "    <tr>\n",
       "      <th>3</th>\n",
       "      <td>13</td>\n",
       "      <td>7</td>\n",
       "      <td>1</td>\n",
       "      <td>1</td>\n",
       "      <td>1</td>\n",
       "      <td>0</td>\n",
       "      <td>43411</td>\n",
       "      <td>8</td>\n",
       "      <td>2</td>\n",
       "      <td>0</td>\n",
       "      <td>1</td>\n",
       "      <td>0</td>\n",
       "      <td>0</td>\n",
       "      <td>38352</td>\n",
       "      <td>0</td>\n",
       "    </tr>\n",
       "    <tr>\n",
       "      <th>4</th>\n",
       "      <td>11</td>\n",
       "      <td>3</td>\n",
       "      <td>0</td>\n",
       "      <td>1</td>\n",
       "      <td>1</td>\n",
       "      <td>0</td>\n",
       "      <td>56146</td>\n",
       "      <td>18</td>\n",
       "      <td>8</td>\n",
       "      <td>2</td>\n",
       "      <td>3</td>\n",
       "      <td>1</td>\n",
       "      <td>0</td>\n",
       "      <td>63671</td>\n",
       "      <td>1</td>\n",
       "    </tr>\n",
       "    <tr>\n",
       "      <th>...</th>\n",
       "      <td>...</td>\n",
       "      <td>...</td>\n",
       "      <td>...</td>\n",
       "      <td>...</td>\n",
       "      <td>...</td>\n",
       "      <td>...</td>\n",
       "      <td>...</td>\n",
       "      <td>...</td>\n",
       "      <td>...</td>\n",
       "      <td>...</td>\n",
       "      <td>...</td>\n",
       "      <td>...</td>\n",
       "      <td>...</td>\n",
       "      <td>...</td>\n",
       "      <td>...</td>\n",
       "    </tr>\n",
       "    <tr>\n",
       "      <th>1666</th>\n",
       "      <td>3</td>\n",
       "      <td>1</td>\n",
       "      <td>0</td>\n",
       "      <td>0</td>\n",
       "      <td>0</td>\n",
       "      <td>0</td>\n",
       "      <td>53564</td>\n",
       "      <td>19</td>\n",
       "      <td>9</td>\n",
       "      <td>1</td>\n",
       "      <td>2</td>\n",
       "      <td>1</td>\n",
       "      <td>0</td>\n",
       "      <td>66199</td>\n",
       "      <td>1</td>\n",
       "    </tr>\n",
       "    <tr>\n",
       "      <th>1667</th>\n",
       "      <td>11</td>\n",
       "      <td>8</td>\n",
       "      <td>1</td>\n",
       "      <td>1</td>\n",
       "      <td>1</td>\n",
       "      <td>0</td>\n",
       "      <td>72633</td>\n",
       "      <td>6</td>\n",
       "      <td>2</td>\n",
       "      <td>0</td>\n",
       "      <td>2</td>\n",
       "      <td>1</td>\n",
       "      <td>0</td>\n",
       "      <td>69978</td>\n",
       "      <td>0</td>\n",
       "    </tr>\n",
       "    <tr>\n",
       "      <th>1668</th>\n",
       "      <td>4</td>\n",
       "      <td>2</td>\n",
       "      <td>0</td>\n",
       "      <td>0</td>\n",
       "      <td>0</td>\n",
       "      <td>0</td>\n",
       "      <td>50208</td>\n",
       "      <td>19</td>\n",
       "      <td>7</td>\n",
       "      <td>1</td>\n",
       "      <td>3</td>\n",
       "      <td>2</td>\n",
       "      <td>0</td>\n",
       "      <td>65314</td>\n",
       "      <td>1</td>\n",
       "    </tr>\n",
       "    <tr>\n",
       "      <th>1669</th>\n",
       "      <td>11</td>\n",
       "      <td>9</td>\n",
       "      <td>1</td>\n",
       "      <td>1</td>\n",
       "      <td>2</td>\n",
       "      <td>0</td>\n",
       "      <td>76663</td>\n",
       "      <td>8</td>\n",
       "      <td>5</td>\n",
       "      <td>0</td>\n",
       "      <td>3</td>\n",
       "      <td>0</td>\n",
       "      <td>0</td>\n",
       "      <td>71760</td>\n",
       "      <td>0</td>\n",
       "    </tr>\n",
       "    <tr>\n",
       "      <th>1670</th>\n",
       "      <td>4</td>\n",
       "      <td>4</td>\n",
       "      <td>0</td>\n",
       "      <td>1</td>\n",
       "      <td>0</td>\n",
       "      <td>0</td>\n",
       "      <td>68226</td>\n",
       "      <td>10</td>\n",
       "      <td>8</td>\n",
       "      <td>1</td>\n",
       "      <td>2</td>\n",
       "      <td>1</td>\n",
       "      <td>0</td>\n",
       "      <td>78525</td>\n",
       "      <td>1</td>\n",
       "    </tr>\n",
       "  </tbody>\n",
       "</table>\n",
       "<p>1671 rows × 15 columns</p>\n",
       "</div>"
      ],
      "text/plain": [
       "      blue_kills  blue_towers  blue_inhibs  blue_dragons  blue_barons  \\\n",
       "0             12            5            0             3            1   \n",
       "1             24            8            2             4            0   \n",
       "2             16            4            0             1            1   \n",
       "3             13            7            1             1            1   \n",
       "4             11            3            0             1            1   \n",
       "...          ...          ...          ...           ...          ...   \n",
       "1666           3            1            0             0            0   \n",
       "1667          11            8            1             1            1   \n",
       "1668           4            2            0             0            0   \n",
       "1669          11            9            1             1            2   \n",
       "1670           4            4            0             1            0   \n",
       "\n",
       "      blue_heralds  blue_end_gold  red_kills  red_towers  red_inhibs  \\\n",
       "0                0          68888         20          11           1   \n",
       "1                1          68306         10           2           0   \n",
       "2                0          66224         22           7           1   \n",
       "3                0          43411          8           2           0   \n",
       "4                0          56146         18           8           2   \n",
       "...            ...            ...        ...         ...         ...   \n",
       "1666             0          53564         19           9           1   \n",
       "1667             0          72633          6           2           0   \n",
       "1668             0          50208         19           7           1   \n",
       "1669             0          76663          8           5           0   \n",
       "1670             0          68226         10           8           1   \n",
       "\n",
       "      red_dragons  red_barons  red_heralds  red_end_gold  result  \n",
       "0               2           1            0         81542       1  \n",
       "1               0           1            0         62122       0  \n",
       "2               2           0            0         68027       1  \n",
       "3               1           0            0         38352       0  \n",
       "4               3           1            0         63671       1  \n",
       "...           ...         ...          ...           ...     ...  \n",
       "1666            2           1            0         66199       1  \n",
       "1667            2           1            0         69978       0  \n",
       "1668            3           2            0         65314       1  \n",
       "1669            3           0            0         71760       0  \n",
       "1670            2           1            0         78525       1  \n",
       "\n",
       "[1671 rows x 15 columns]"
      ]
     },
     "execution_count": 8,
     "metadata": {},
     "output_type": "execute_result"
    }
   ],
   "source": [
    "data = pd.DataFrame()\n",
    "\n",
    "def count_data(column: pd.Series):\n",
    "    column = column.to_list()\n",
    "    result = []\n",
    "    for item in column:\n",
    "        result.append(len(item))\n",
    "    return result\n",
    "\n",
    "data = data.assign(\n",
    "                    blue_kills=lambda x: count_data(df['bKills']),\n",
    "                    blue_towers=lambda x: count_data(df['bTowers']),\n",
    "                    blue_inhibs=lambda x: count_data(df['bInhibs']),\n",
    "                    blue_dragons=lambda x: count_data(df['bDragons']),\n",
    "                    blue_barons=lambda x: count_data(df['bBarons']),\n",
    "                    blue_heralds=lambda x: count_data(df['bHeralds']),\n",
    "                    blue_end_gold=lambda x: df['goldblue'].apply(lambda x: x[-1]),\n",
    "                    red_kills=lambda x: count_data(df['rKills']),\n",
    "                    red_towers=lambda x: count_data(df['rTowers']),\n",
    "                    red_inhibs=lambda x: count_data(df['rInhibs']),\n",
    "                    red_dragons=lambda x: count_data(df['rDragons']),\n",
    "                    red_barons=lambda x: count_data(df['rBarons']),\n",
    "                    red_heralds=lambda x: count_data(df['rHeralds']),\n",
    "                    red_end_gold=lambda x: df['goldred'].apply(lambda x: x[-1]),\n",
    "                    result=df['rResult'])\n",
    "data\n"
   ]
  },
  {
   "cell_type": "markdown",
   "metadata": {},
   "source": [
    "Biểu đồ nhiệt thể hiện sự tương quan giữa các biến"
   ]
  },
  {
   "cell_type": "code",
   "execution_count": 9,
   "metadata": {},
   "outputs": [
    {
     "data": {
      "text/plain": [
       "<AxesSubplot:>"
      ]
     },
     "execution_count": 9,
     "metadata": {},
     "output_type": "execute_result"
    },
    {
     "data": {
      "image/png": "[encoded data removed]",
      "text/plain": [
       "<Figure size 864x864 with 2 Axes>"
      ]
     },
     "metadata": {},
     "output_type": "display_data"
    }
   ],
   "source": [
    "fig = plt.figure(figsize=(12,12))\n",
    "sns.set_style('darkgrid')\n",
    "sns.heatmap(data.corr(), annot=True, square=True, cmap='coolwarm')\n"
   ]
  },
  {
   "cell_type": "markdown",
   "metadata": {},
   "source": [
    "Qua biểu đồ ta thấy, các chỉ số như điểm hạ gục (kills), trụ (towers), nhà lính (inhibs), rồng (dragon), baron và tổng số vàng kiếm được có mối quan hệ tương quan sâu sắc đến kết quả trận đấu."
   ]
  },
  {
   "cell_type": "markdown",
   "metadata": {},
   "source": [
    "Căn cứ vào phân tích trên, em muốn thử nghiệm dựa vào các chỉ số đó trong 30 phút đầu tiên của trận đấu để dự đoán đội nào sẽ giành chiến thắng chung cuộc trong cả trận đấu. (Áp dụng cho những trận đấu kéo dài hơn 30 phút)"
   ]
  },
  {
   "cell_type": "markdown",
   "metadata": {},
   "source": [
    "# Dự đoán đội chiến thắng bằng các tham số trước phút 30"
   ]
  },
  {
   "cell_type": "markdown",
   "metadata": {},
   "source": [
    "Đếm các chỉ số trong 30 phút đầu tiên"
   ]
  },
  {
   "cell_type": "code",
   "execution_count": 10,
   "metadata": {},
   "outputs": [
    {
     "name": "stdout",
     "output_type": "stream",
     "text": [
      "1308\n"
     ]
    },
    {
     "data": {
      "text/html": [
       "<div>\n",
       "<style scoped>\n",
       "    .dataframe tbody tr th:only-of-type {\n",
       "        vertical-align: middle;\n",
       "    }\n",
       "\n",
       "    .dataframe tbody tr th {\n",
       "        vertical-align: top;\n",
       "    }\n",
       "\n",
       "    .dataframe thead th {\n",
       "        text-align: right;\n",
       "    }\n",
       "</style>\n",
       "<table border=\"1\" class=\"dataframe\">\n",
       "  <thead>\n",
       "    <tr style=\"text-align: right;\">\n",
       "      <th></th>\n",
       "      <th>blue_tag</th>\n",
       "      <th>blue_end_gold</th>\n",
       "      <th>blue_kills</th>\n",
       "      <th>blue_towers</th>\n",
       "      <th>blue_inhibs</th>\n",
       "      <th>blue_barons</th>\n",
       "      <th>blue_dragons</th>\n",
       "      <th>blue_heralds</th>\n",
       "      <th>red_tag</th>\n",
       "      <th>red_end_gold</th>\n",
       "      <th>red_kills</th>\n",
       "      <th>red_towers</th>\n",
       "      <th>red_inhibs</th>\n",
       "      <th>red_barons</th>\n",
       "      <th>red_dragons</th>\n",
       "      <th>red_heralds</th>\n",
       "      <th>result</th>\n",
       "    </tr>\n",
       "  </thead>\n",
       "  <tbody>\n",
       "    <tr>\n",
       "      <th>0</th>\n",
       "      <td>TSM</td>\n",
       "      <td>52620</td>\n",
       "      <td>10</td>\n",
       "      <td>5</td>\n",
       "      <td>0</td>\n",
       "      <td>1</td>\n",
       "      <td>2</td>\n",
       "      <td>0</td>\n",
       "      <td>C9</td>\n",
       "      <td>53661</td>\n",
       "      <td>11</td>\n",
       "      <td>5</td>\n",
       "      <td>0</td>\n",
       "      <td>0</td>\n",
       "      <td>1</td>\n",
       "      <td>0</td>\n",
       "      <td>1</td>\n",
       "    </tr>\n",
       "    <tr>\n",
       "      <th>1</th>\n",
       "      <td>C9</td>\n",
       "      <td>53448</td>\n",
       "      <td>16</td>\n",
       "      <td>5</td>\n",
       "      <td>1</td>\n",
       "      <td>0</td>\n",
       "      <td>3</td>\n",
       "      <td>1</td>\n",
       "      <td>TSM</td>\n",
       "      <td>49009</td>\n",
       "      <td>6</td>\n",
       "      <td>2</td>\n",
       "      <td>0</td>\n",
       "      <td>1</td>\n",
       "      <td>0</td>\n",
       "      <td>0</td>\n",
       "      <td>0</td>\n",
       "    </tr>\n",
       "    <tr>\n",
       "      <th>2</th>\n",
       "      <td>FOX</td>\n",
       "      <td>46824</td>\n",
       "      <td>14</td>\n",
       "      <td>1</td>\n",
       "      <td>0</td>\n",
       "      <td>0</td>\n",
       "      <td>0</td>\n",
       "      <td>0</td>\n",
       "      <td>P1</td>\n",
       "      <td>49030</td>\n",
       "      <td>13</td>\n",
       "      <td>3</td>\n",
       "      <td>0</td>\n",
       "      <td>0</td>\n",
       "      <td>2</td>\n",
       "      <td>0</td>\n",
       "      <td>1</td>\n",
       "    </tr>\n",
       "    <tr>\n",
       "      <th>4</th>\n",
       "      <td>CLG</td>\n",
       "      <td>45171</td>\n",
       "      <td>4</td>\n",
       "      <td>2</td>\n",
       "      <td>0</td>\n",
       "      <td>0</td>\n",
       "      <td>1</td>\n",
       "      <td>0</td>\n",
       "      <td>TL</td>\n",
       "      <td>52256</td>\n",
       "      <td>8</td>\n",
       "      <td>6</td>\n",
       "      <td>1</td>\n",
       "      <td>1</td>\n",
       "      <td>3</td>\n",
       "      <td>0</td>\n",
       "      <td>1</td>\n",
       "    </tr>\n",
       "    <tr>\n",
       "      <th>5</th>\n",
       "      <td>TL</td>\n",
       "      <td>43127</td>\n",
       "      <td>6</td>\n",
       "      <td>2</td>\n",
       "      <td>0</td>\n",
       "      <td>0</td>\n",
       "      <td>0</td>\n",
       "      <td>0</td>\n",
       "      <td>CLG</td>\n",
       "      <td>50414</td>\n",
       "      <td>10</td>\n",
       "      <td>6</td>\n",
       "      <td>1</td>\n",
       "      <td>1</td>\n",
       "      <td>2</td>\n",
       "      <td>0</td>\n",
       "      <td>0</td>\n",
       "    </tr>\n",
       "    <tr>\n",
       "      <th>...</th>\n",
       "      <td>...</td>\n",
       "      <td>...</td>\n",
       "      <td>...</td>\n",
       "      <td>...</td>\n",
       "      <td>...</td>\n",
       "      <td>...</td>\n",
       "      <td>...</td>\n",
       "      <td>...</td>\n",
       "      <td>...</td>\n",
       "      <td>...</td>\n",
       "      <td>...</td>\n",
       "      <td>...</td>\n",
       "      <td>...</td>\n",
       "      <td>...</td>\n",
       "      <td>...</td>\n",
       "      <td>...</td>\n",
       "      <td>...</td>\n",
       "    </tr>\n",
       "    <tr>\n",
       "      <th>1666</th>\n",
       "      <td>KDM</td>\n",
       "      <td>45006</td>\n",
       "      <td>3</td>\n",
       "      <td>1</td>\n",
       "      <td>0</td>\n",
       "      <td>0</td>\n",
       "      <td>0</td>\n",
       "      <td>0</td>\n",
       "      <td>JAG</td>\n",
       "      <td>54267</td>\n",
       "      <td>12</td>\n",
       "      <td>6</td>\n",
       "      <td>0</td>\n",
       "      <td>1</td>\n",
       "      <td>2</td>\n",
       "      <td>0</td>\n",
       "      <td>1</td>\n",
       "    </tr>\n",
       "    <tr>\n",
       "      <th>1667</th>\n",
       "      <td>EEW</td>\n",
       "      <td>48090</td>\n",
       "      <td>4</td>\n",
       "      <td>3</td>\n",
       "      <td>0</td>\n",
       "      <td>0</td>\n",
       "      <td>0</td>\n",
       "      <td>0</td>\n",
       "      <td>KDM</td>\n",
       "      <td>45558</td>\n",
       "      <td>2</td>\n",
       "      <td>1</td>\n",
       "      <td>0</td>\n",
       "      <td>0</td>\n",
       "      <td>2</td>\n",
       "      <td>0</td>\n",
       "      <td>0</td>\n",
       "    </tr>\n",
       "    <tr>\n",
       "      <th>1668</th>\n",
       "      <td>KDM</td>\n",
       "      <td>43404</td>\n",
       "      <td>4</td>\n",
       "      <td>2</td>\n",
       "      <td>0</td>\n",
       "      <td>0</td>\n",
       "      <td>0</td>\n",
       "      <td>0</td>\n",
       "      <td>EEW</td>\n",
       "      <td>53384</td>\n",
       "      <td>13</td>\n",
       "      <td>4</td>\n",
       "      <td>0</td>\n",
       "      <td>1</td>\n",
       "      <td>3</td>\n",
       "      <td>0</td>\n",
       "      <td>1</td>\n",
       "    </tr>\n",
       "    <tr>\n",
       "      <th>1669</th>\n",
       "      <td>KDM</td>\n",
       "      <td>44330</td>\n",
       "      <td>2</td>\n",
       "      <td>2</td>\n",
       "      <td>0</td>\n",
       "      <td>0</td>\n",
       "      <td>0</td>\n",
       "      <td>0</td>\n",
       "      <td>EEW</td>\n",
       "      <td>49207</td>\n",
       "      <td>8</td>\n",
       "      <td>3</td>\n",
       "      <td>0</td>\n",
       "      <td>0</td>\n",
       "      <td>3</td>\n",
       "      <td>0</td>\n",
       "      <td>0</td>\n",
       "    </tr>\n",
       "    <tr>\n",
       "      <th>1670</th>\n",
       "      <td>KDM</td>\n",
       "      <td>45701</td>\n",
       "      <td>1</td>\n",
       "      <td>1</td>\n",
       "      <td>0</td>\n",
       "      <td>0</td>\n",
       "      <td>1</td>\n",
       "      <td>0</td>\n",
       "      <td>EEW</td>\n",
       "      <td>46805</td>\n",
       "      <td>1</td>\n",
       "      <td>1</td>\n",
       "      <td>0</td>\n",
       "      <td>0</td>\n",
       "      <td>0</td>\n",
       "      <td>0</td>\n",
       "      <td>1</td>\n",
       "    </tr>\n",
       "  </tbody>\n",
       "</table>\n",
       "<p>1308 rows × 17 columns</p>\n",
       "</div>"
      ],
      "text/plain": [
       "     blue_tag  blue_end_gold  blue_kills  blue_towers  blue_inhibs  \\\n",
       "0         TSM          52620          10            5            0   \n",
       "1          C9          53448          16            5            1   \n",
       "2         FOX          46824          14            1            0   \n",
       "4         CLG          45171           4            2            0   \n",
       "5          TL          43127           6            2            0   \n",
       "...       ...            ...         ...          ...          ...   \n",
       "1666      KDM          45006           3            1            0   \n",
       "1667      EEW          48090           4            3            0   \n",
       "1668      KDM          43404           4            2            0   \n",
       "1669      KDM          44330           2            2            0   \n",
       "1670      KDM          45701           1            1            0   \n",
       "\n",
       "      blue_barons  blue_dragons  blue_heralds red_tag  red_end_gold  \\\n",
       "0               1             2             0      C9         53661   \n",
       "1               0             3             1     TSM         49009   \n",
       "2               0             0             0      P1         49030   \n",
       "4               0             1             0      TL         52256   \n",
       "5               0             0             0     CLG         50414   \n",
       "...           ...           ...           ...     ...           ...   \n",
       "1666            0             0             0     JAG         54267   \n",
       "1667            0             0             0     KDM         45558   \n",
       "1668            0             0             0     EEW         53384   \n",
       "1669            0             0             0     EEW         49207   \n",
       "1670            0             1             0     EEW         46805   \n",
       "\n",
       "      red_kills  red_towers  red_inhibs  red_barons  red_dragons  red_heralds  \\\n",
       "0            11           5           0           0            1            0   \n",
       "1             6           2           0           1            0            0   \n",
       "2            13           3           0           0            2            0   \n",
       "4             8           6           1           1            3            0   \n",
       "5            10           6           1           1            2            0   \n",
       "...         ...         ...         ...         ...          ...          ...   \n",
       "1666         12           6           0           1            2            0   \n",
       "1667          2           1           0           0            2            0   \n",
       "1668         13           4           0           1            3            0   \n",
       "1669          8           3           0           0            3            0   \n",
       "1670          1           1           0           0            0            0   \n",
       "\n",
       "      result  \n",
       "0          1  \n",
       "1          0  \n",
       "2          1  \n",
       "4          1  \n",
       "5          0  \n",
       "...      ...  \n",
       "1666       1  \n",
       "1667       0  \n",
       "1668       1  \n",
       "1669       0  \n",
       "1670       1  \n",
       "\n",
       "[1308 rows x 17 columns]"
      ]
     },
     "execution_count": 10,
     "metadata": {},
     "output_type": "execute_result"
    }
   ],
   "source": [
    "df_copy = df.copy()\n",
    "data_limited = pd.DataFrame()\n",
    "\n",
    "time_limited = 30\n",
    "df_copy = df_copy[df_copy.gamelength > time_limited]\n",
    "print(len(df_copy))\n",
    "\n",
    "def count_data_limited(column: pd.Series, length: float):\n",
    "    column = column.to_list()\n",
    "    result = []\n",
    "    for i, item in enumerate(column):\n",
    "        result.append([])\n",
    "        for obj in item:\n",
    "            if obj[0] < length:\n",
    "                result[i].append(obj)\n",
    "    result = [len(item) for item in result]\n",
    "    return result\n",
    "\n",
    "data_limited = df_copy.assign(\n",
    "                    blue_kills=lambda x: count_data_limited(df_copy['bKills'], time_limited),\n",
    "                    blue_towers=lambda x: count_data_limited(df_copy['bTowers'], time_limited),\n",
    "                    blue_inhibs=lambda x: count_data_limited(df_copy['bInhibs'], time_limited),\n",
    "                    blue_dragons=lambda x: count_data_limited(df_copy['bDragons'], time_limited),\n",
    "                    blue_barons=lambda x: count_data_limited(df_copy['bBarons'], time_limited),\n",
    "                    blue_heralds=lambda x: count_data_limited(df_copy['bHeralds'], time_limited),\n",
    "                    blue_end_gold=lambda x: df_copy['goldblue'].apply(lambda x: x[time_limited-1]),\n",
    "                    red_kills=lambda x: count_data_limited(df_copy['rKills'], time_limited),\n",
    "                    red_towers=lambda x: count_data_limited(df_copy['rTowers'], time_limited),\n",
    "                    red_inhibs=lambda x: count_data_limited(df_copy['rInhibs'], time_limited),\n",
    "                    red_dragons=lambda x: count_data_limited(df_copy['rDragons'], time_limited),\n",
    "                    red_barons=lambda x: count_data_limited(df_copy['rBarons'], time_limited),\n",
    "                    red_heralds=lambda x: count_data_limited(df_copy['rHeralds'], time_limited),\n",
    "                    red_end_gold=lambda x: df_copy['goldred'].apply(lambda x: x[time_limited-1]),\n",
    "                    result=df_copy['rResult'])\n",
    "\n",
    "data_limited['blue_tag'] = df_copy['blueTeamTag']\n",
    "data_limited['red_tag'] = df_copy['redTeamTag']\n",
    "\n",
    "data_limited = data_limited[['blue_tag', 'blue_end_gold', 'blue_kills', 'blue_towers', 'blue_inhibs', 'blue_barons', 'blue_dragons', 'blue_heralds', \n",
    "                            'red_tag', 'red_end_gold','red_kills', 'red_towers', 'red_inhibs', 'red_barons', 'red_dragons', 'red_heralds',\n",
    "                            'result']]\n",
    "data_limited\n"
   ]
  },
  {
   "cell_type": "markdown",
   "metadata": {},
   "source": [
    "## Xử lí ngoại lệ\n"
   ]
  },
  {
   "cell_type": "code",
   "execution_count": 11,
   "metadata": {},
   "outputs": [
    {
     "data": {
      "text/plain": [
       "<AxesSubplot:>"
      ]
     },
     "execution_count": 11,
     "metadata": {},
     "output_type": "execute_result"
    },
    {
     "data": {
      "image/png": "[encoded data removed]",
      "text/plain": [
       "<Figure size 2160x576 with 2 Axes>"
      ]
     },
     "metadata": {},
     "output_type": "display_data"
    }
   ],
   "source": [
    "fig, ax = plt.subplots(1, 2, figsize=(30, 8))\n",
    "plt.subplot(1, 2, 1)\n",
    "data_limited.blue_kills.hist(bins=30)\n",
    "plt.subplot(1, 2, 2)\n",
    "data_limited.red_kills.hist(bins=30)\n"
   ]
  },
  {
   "cell_type": "code",
   "execution_count": 12,
   "metadata": {},
   "outputs": [
    {
     "data": {
      "text/plain": [
       "<AxesSubplot:xlabel='red_kills'>"
      ]
     },
     "execution_count": 12,
     "metadata": {},
     "output_type": "execute_result"
    },
    {
     "data": {
      "image/png": "[encoded data removed]",
      "text/plain": [
       "<Figure size 2160x576 with 2 Axes>"
      ]
     },
     "metadata": {},
     "output_type": "display_data"
    }
   ],
   "source": [
    "fig, ax = plt.subplots(1, 2, figsize=(30, 8))\n",
    "plt.subplot(1, 2, 1)\n",
    "sns.boxplot(x=data_limited['blue_kills'])\n",
    "plt.subplot(1, 2, 2)\n",
    "sns.boxplot(x=data_limited['red_kills'])\n"
   ]
  },
  {
   "cell_type": "markdown",
   "metadata": {},
   "source": [
    "Hàm xử lí ngoại lệ cho phân bố lệch trái"
   ]
  },
  {
   "cell_type": "code",
   "execution_count": 13,
   "metadata": {},
   "outputs": [],
   "source": [
    "def skewed_outliers(df: DataFrame, column: str):\n",
    "    IQR = df[column].quantile(0.75) - df[column].quantile(0.25)\n",
    "    upper_bridge = df[column].quantile(0.75) + (IQR * 1.5)\n",
    "    df.loc[df[column] >= int(upper_bridge), column] = int(upper_bridge)\n",
    "    return df\n"
   ]
  },
  {
   "cell_type": "markdown",
   "metadata": {},
   "source": [
    "Xử lí ngoại lệ các cột blue_kills, red_kills, blue_towers, red_towers"
   ]
  },
  {
   "cell_type": "code",
   "execution_count": 14,
   "metadata": {},
   "outputs": [],
   "source": [
    "data_limited = skewed_outliers(data_limited, \"blue_kills\")\n",
    "data_limited = skewed_outliers(data_limited, \"red_kills\")\n",
    "data_limited = skewed_outliers(data_limited, \"blue_towers\")\n",
    "data_limited = skewed_outliers(data_limited, \"red_towers\")"
   ]
  },
  {
   "cell_type": "markdown",
   "metadata": {},
   "source": [
    "## Kiểm tra đa cộng tuyến\n"
   ]
  },
  {
   "cell_type": "markdown",
   "metadata": {},
   "source": [
    "- Đa cộng tuyến là hiện tượng các biến độc lập có mối quan hệ tuyến tính với nhau. Hiện tượng đa cộng tuyến vi phạm giả định của mô hình hồi quy tuyến tính cổ điển là các biến độc lập không có mối quan hệ tuyến tính với nhau. \n",
    "- Có hai cách phát hiện đa cộng tuyến là dựa vào hệ số phóng đại phương sai VIF, hoặc dựa vào ma trận hệ số tương quan. Tuy nhiên cách dùng ma trận hệ số tương quan ít được sử dụng, chủ yếu sửa dụng cách nhận xét chỉ số VIF. (Ở đây sử dụng VIF)\n",
    "    - VIF < 5: Không có hiện tượng đa cộng tuyến.\n",
    "    - 5 < VIF < 10: Có hiện tượng đa cộng tuyến."
   ]
  },
  {
   "cell_type": "code",
   "execution_count": 15,
   "metadata": {},
   "outputs": [
    {
     "data": {
      "text/html": [
       "<div>\n",
       "<style scoped>\n",
       "    .dataframe tbody tr th:only-of-type {\n",
       "        vertical-align: middle;\n",
       "    }\n",
       "\n",
       "    .dataframe tbody tr th {\n",
       "        vertical-align: top;\n",
       "    }\n",
       "\n",
       "    .dataframe thead th {\n",
       "        text-align: right;\n",
       "    }\n",
       "</style>\n",
       "<table border=\"1\" class=\"dataframe\">\n",
       "  <thead>\n",
       "    <tr style=\"text-align: right;\">\n",
       "      <th></th>\n",
       "      <th>VIF</th>\n",
       "      <th>variable</th>\n",
       "    </tr>\n",
       "  </thead>\n",
       "  <tbody>\n",
       "    <tr>\n",
       "      <th>0</th>\n",
       "      <td>1760.982333</td>\n",
       "      <td>Intercept</td>\n",
       "    </tr>\n",
       "    <tr>\n",
       "      <th>1</th>\n",
       "      <td>7.194991</td>\n",
       "      <td>blue_end_gold</td>\n",
       "    </tr>\n",
       "    <tr>\n",
       "      <th>2</th>\n",
       "      <td>2.621788</td>\n",
       "      <td>blue_kills</td>\n",
       "    </tr>\n",
       "    <tr>\n",
       "      <th>3</th>\n",
       "      <td>4.856297</td>\n",
       "      <td>blue_towers</td>\n",
       "    </tr>\n",
       "    <tr>\n",
       "      <th>4</th>\n",
       "      <td>1.692344</td>\n",
       "      <td>blue_inhibs</td>\n",
       "    </tr>\n",
       "    <tr>\n",
       "      <th>5</th>\n",
       "      <td>2.867521</td>\n",
       "      <td>blue_dragons</td>\n",
       "    </tr>\n",
       "    <tr>\n",
       "      <th>6</th>\n",
       "      <td>1.942615</td>\n",
       "      <td>blue_barons</td>\n",
       "    </tr>\n",
       "    <tr>\n",
       "      <th>7</th>\n",
       "      <td>1.228769</td>\n",
       "      <td>blue_heralds</td>\n",
       "    </tr>\n",
       "    <tr>\n",
       "      <th>8</th>\n",
       "      <td>7.221777</td>\n",
       "      <td>red_end_gold</td>\n",
       "    </tr>\n",
       "    <tr>\n",
       "      <th>9</th>\n",
       "      <td>2.731710</td>\n",
       "      <td>red_kills</td>\n",
       "    </tr>\n",
       "    <tr>\n",
       "      <th>10</th>\n",
       "      <td>5.207315</td>\n",
       "      <td>red_towers</td>\n",
       "    </tr>\n",
       "    <tr>\n",
       "      <th>11</th>\n",
       "      <td>1.695722</td>\n",
       "      <td>red_inhibs</td>\n",
       "    </tr>\n",
       "    <tr>\n",
       "      <th>12</th>\n",
       "      <td>2.889267</td>\n",
       "      <td>red_dragons</td>\n",
       "    </tr>\n",
       "    <tr>\n",
       "      <th>13</th>\n",
       "      <td>2.099048</td>\n",
       "      <td>red_barons</td>\n",
       "    </tr>\n",
       "    <tr>\n",
       "      <th>14</th>\n",
       "      <td>1.273624</td>\n",
       "      <td>red_heralds</td>\n",
       "    </tr>\n",
       "  </tbody>\n",
       "</table>\n",
       "</div>"
      ],
      "text/plain": [
       "            VIF       variable\n",
       "0   1760.982333      Intercept\n",
       "1      7.194991  blue_end_gold\n",
       "2      2.621788     blue_kills\n",
       "3      4.856297    blue_towers\n",
       "4      1.692344    blue_inhibs\n",
       "5      2.867521   blue_dragons\n",
       "6      1.942615    blue_barons\n",
       "7      1.228769   blue_heralds\n",
       "8      7.221777   red_end_gold\n",
       "9      2.731710      red_kills\n",
       "10     5.207315     red_towers\n",
       "11     1.695722     red_inhibs\n",
       "12     2.889267    red_dragons\n",
       "13     2.099048     red_barons\n",
       "14     1.273624    red_heralds"
      ]
     },
     "execution_count": 15,
     "metadata": {},
     "output_type": "execute_result"
    }
   ],
   "source": [
    "y, X = dmatrices('result ~ blue_end_gold+blue_kills+blue_towers+blue_inhibs+blue_dragons+blue_barons+blue_heralds+red_end_gold+red_kills+red_towers+red_inhibs+red_dragons+red_barons+red_heralds',\n",
    "                 data=data_limited.drop(columns=['blue_tag', 'red_tag'], axis=1), return_type='dataframe')\n",
    "vif = pd.DataFrame()\n",
    "vif['VIF'] = [variance_inflation_factor(X.values, i) for i in range(X.shape[1])]\n",
    "vif['variable'] = X.columns\n",
    "vif\n"
   ]
  },
  {
   "cell_type": "markdown",
   "metadata": {},
   "source": [
    "- Ta thấy blue_end_gold và red_end_gold đều có hiện tượng đa cộng tuyến (6.17 và 6.51) vì vậy cần loại bỏ trước khi train model.\n",
    "- red_towers có VIF > 5 nhưng blue_towers < 5 nên không loại bỏ để giữ lại sự cân bằng cho data."
   ]
  },
  {
   "cell_type": "markdown",
   "metadata": {},
   "source": [
    "## Train Models\n"
   ]
  },
  {
   "cell_type": "markdown",
   "metadata": {},
   "source": [
    "Chia data thành 2 tập train và test\n"
   ]
  },
  {
   "cell_type": "code",
   "execution_count": 16,
   "metadata": {},
   "outputs": [],
   "source": [
    "X = data_limited.drop(columns=['blue_tag', 'red_tag', 'blue_end_gold', 'red_end_gold', 'result'], axis=1)\n",
    "Y = data_limited['result']\n",
    "\n",
    "X_train, X_test, Y_train, Y_test = train_test_split(X, Y, test_size=0.33, random_state=0)\n"
   ]
  },
  {
   "cell_type": "markdown",
   "metadata": {},
   "source": [
    "Train model với các siêu tham số mặc định"
   ]
  },
  {
   "cell_type": "code",
   "execution_count": 17,
   "metadata": {},
   "outputs": [],
   "source": [
    "model = LogisticRegression(solver='newton-cg', penalty='none', C=1e-2)\n",
    "model.fit(X_train, Y_train)\n",
    "\n",
    "predictions = model.predict(X_test)"
   ]
  },
  {
   "cell_type": "markdown",
   "metadata": {},
   "source": [
    "Hàm hiển thị kết quả test"
   ]
  },
  {
   "cell_type": "code",
   "execution_count": 18,
   "metadata": {},
   "outputs": [],
   "source": [
    "def display_result(predictions):\n",
    "    cr = classification_report(Y_test, predictions)\n",
    "    print('Classification Report : \\n', cr)\n",
    "\n",
    "    acc = round(model.score(X_test, Y_test) * 100, 2)\n",
    "    print(\"Accuracy of Logistic Regression: \" + str(acc) + \"%\")\n",
    "\n",
    "    cm = confusion_matrix(Y_test,predictions)\n",
    "    sns.heatmap(cm, annot=True, fmt=\"d\", xticklabels=['red win', 'blue win'], yticklabels=['red win', 'blue win'])"
   ]
  },
  {
   "cell_type": "code",
   "execution_count": 19,
   "metadata": {},
   "outputs": [
    {
     "name": "stdout",
     "output_type": "stream",
     "text": [
      "Classification Report : \n",
      "               precision    recall  f1-score   support\n",
      "\n",
      "           0       0.80      0.88      0.84       223\n",
      "           1       0.86      0.77      0.81       209\n",
      "\n",
      "    accuracy                           0.83       432\n",
      "   macro avg       0.83      0.82      0.83       432\n",
      "weighted avg       0.83      0.83      0.83       432\n",
      "\n",
      "Accuracy of Logistic Regression: 82.64%\n"
     ]
    },
    {
     "data": {
      "image/png": "[encoded data removed]",
      "text/plain": [
       "<Figure size 432x288 with 2 Axes>"
      ]
     },
     "metadata": {},
     "output_type": "display_data"
    }
   ],
   "source": [
    "display_result(predictions)\n"
   ]
  },
  {
   "cell_type": "markdown",
   "metadata": {},
   "source": [
    "Tìm bộ siêu tham số cho kết quả tốt nhất"
   ]
  },
  {
   "cell_type": "code",
   "execution_count": 20,
   "metadata": {},
   "outputs": [
    {
     "name": "stdout",
     "output_type": "stream",
     "text": [
      "Best: 0.828740 using {'C': 0.01, 'penalty': 'l2', 'solver': 'newton-cg'}\n"
     ]
    }
   ],
   "source": [
    "solvers = ['newton-cg', 'lbfgs', 'liblinear']\n",
    "penalty = ['none', 'l1', 'l2', 'elasticnet']\n",
    "c_values = [1e-2, 1e-1, 1, 10]\n",
    "\n",
    "grid = dict(solver=solvers, penalty=penalty, C=c_values)\n",
    "cv = RepeatedStratifiedKFold(n_splits=10, n_repeats=3, random_state=0)\n",
    "grid_search = GridSearchCV(estimator=model, param_grid=grid,\n",
    "                           n_jobs=-1, cv=cv, scoring='accuracy', error_score=0)\n",
    "grid_result = grid_search.fit(X_train, Y_train)\n",
    "print(\"Best: %f using %s\" % (grid_result.best_score_, grid_result.best_params_))\n"
   ]
  },
  {
   "cell_type": "markdown",
   "metadata": {},
   "source": [
    "Train model với bộ siêu tham số tìm được"
   ]
  },
  {
   "cell_type": "code",
   "execution_count": 21,
   "metadata": {},
   "outputs": [
    {
     "name": "stdout",
     "output_type": "stream",
     "text": [
      "Classification Report : \n",
      "               precision    recall  f1-score   support\n",
      "\n",
      "           0       0.80      0.88      0.84       223\n",
      "           1       0.86      0.77      0.81       209\n",
      "\n",
      "    accuracy                           0.83       432\n",
      "   macro avg       0.83      0.83      0.83       432\n",
      "weighted avg       0.83      0.83      0.83       432\n",
      "\n",
      "Accuracy of Logistic Regression: 82.87%\n"
     ]
    },
    {
     "data": {
      "image/png": "[encoded data removed]",
      "text/plain": [
       "<Figure size 432x288 with 2 Axes>"
      ]
     },
     "metadata": {},
     "output_type": "display_data"
    }
   ],
   "source": [
    "model = LogisticRegression(C=grid_result.best_params_['C'], solver=grid_result.best_params_['solver'], \n",
    "                            penalty=grid_result.best_params_['penalty'])\n",
    "model.fit(X_train, Y_train)\n",
    "\n",
    "predictions = model.predict(X_test)\n",
    "\n",
    "display_result(predictions)\n"
   ]
  },
  {
   "cell_type": "markdown",
   "metadata": {},
   "source": [
    "Nhận xét: Sau khi sử dụng các siêu tham số thì độ chính xác dự đoán tăng hơn 0.2% (từ 82.64% lên 82.87%)"
   ]
  },
  {
   "cell_type": "markdown",
   "metadata": {},
   "source": [
    "Dự đoán trong trường hợp cụ thể (trận có index = 10 trong tập dữ liệu test)"
   ]
  },
  {
   "cell_type": "code",
   "execution_count": 22,
   "metadata": {},
   "outputs": [
    {
     "name": "stdout",
     "output_type": "stream",
     "text": [
      "Blue team win\n",
      "Blue team win probability is: 91.84%\n",
      "Red team win probability is: 8.16%\n"
     ]
    }
   ],
   "source": [
    "X_case = X_test.loc[[10]]\n",
    "Y_case = Y_test.loc[[10]]\n",
    "\n",
    "pred = model.predict_proba(X_case).reshape(-1, 1)\n",
    "\n",
    "win = round(model.predict(X_case)[0], 2)\n",
    "print(\"Blue team win\") if win == 0 else print(\"Red team win\")\n",
    "fir_prob = round(pred[0][0] * 100, 2)\n",
    "sec_prob = round(pred[1][0] * 100, 2)\n",
    "print(\"Blue team win probability is: \" + str(fir_prob) + \"%\")\n",
    "print(\"Red team win probability is: \" + str(sec_prob) + \"%\")"
   ]
  },
  {
   "cell_type": "markdown",
   "metadata": {},
   "source": [
    "Mô hình cho ra xác suất chiến thắng của đội xanh là 91.84% còn đội đỏ là 8.16%"
   ]
  }
 ],
 "metadata": {
  "interpreter": {
   "hash": "83a8a37af132a2fa5bd73ffbd7034c1e5f9f9b0bef7ee17d2a911228df5d8f19"
  },
  "kernelspec": {
   "display_name": "Python 3.10.2 64-bit",
   "language": "python",
   "name": "python3"
  },
  "language_info": {
   "codemirror_mode": {
    "name": "ipython",
    "version": 3
   },
   "file_extension": ".py",
   "mimetype": "text/x-python",
   "name": "python",
   "nbconvert_exporter": "python",
   "pygments_lexer": "ipython3",
   "version": "3.10.2"
  },
  "orig_nbformat": 4
 },
 "nbformat": 4,
 "nbformat_minor": 2
}
