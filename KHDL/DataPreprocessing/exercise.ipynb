{
 "cells": [
  {
   "cell_type": "code",
   "execution_count": 209,
   "metadata": {},
   "outputs": [],
   "source": [
    "import pandas as pd\n",
    "import numpy as np\n",
    "import matplotlib.pyplot as plt\n",
    "\n",
    "from sklearn.model_selection import train_test_split\n",
    "from sklearn.linear_model import LogisticRegression\n",
    "from sklearn.metrics import accuracy_score\n",
    "\n",
    "from sklearn.preprocessing import StandardScaler\n",
    "from sklearn.preprocessing import MinMaxScaler\n"
   ]
  },
  {
   "cell_type": "markdown",
   "metadata": {},
   "source": [
    "Read data\n"
   ]
  },
  {
   "cell_type": "code",
   "execution_count": 210,
   "metadata": {},
   "outputs": [
    {
     "data": {
      "text/html": [
       "<div>\n",
       "<style scoped>\n",
       "    .dataframe tbody tr th:only-of-type {\n",
       "        vertical-align: middle;\n",
       "    }\n",
       "\n",
       "    .dataframe tbody tr th {\n",
       "        vertical-align: top;\n",
       "    }\n",
       "\n",
       "    .dataframe thead th {\n",
       "        text-align: right;\n",
       "    }\n",
       "</style>\n",
       "<table border=\"1\" class=\"dataframe\">\n",
       "  <thead>\n",
       "    <tr style=\"text-align: right;\">\n",
       "      <th></th>\n",
       "      <th>Survived</th>\n",
       "      <th>Age</th>\n",
       "      <th>Fare</th>\n",
       "    </tr>\n",
       "  </thead>\n",
       "  <tbody>\n",
       "    <tr>\n",
       "      <th>0</th>\n",
       "      <td>0</td>\n",
       "      <td>22.0</td>\n",
       "      <td>7.2500</td>\n",
       "    </tr>\n",
       "    <tr>\n",
       "      <th>1</th>\n",
       "      <td>1</td>\n",
       "      <td>38.0</td>\n",
       "      <td>71.2833</td>\n",
       "    </tr>\n",
       "    <tr>\n",
       "      <th>2</th>\n",
       "      <td>1</td>\n",
       "      <td>26.0</td>\n",
       "      <td>7.9250</td>\n",
       "    </tr>\n",
       "    <tr>\n",
       "      <th>3</th>\n",
       "      <td>1</td>\n",
       "      <td>35.0</td>\n",
       "      <td>53.1000</td>\n",
       "    </tr>\n",
       "    <tr>\n",
       "      <th>4</th>\n",
       "      <td>0</td>\n",
       "      <td>35.0</td>\n",
       "      <td>8.0500</td>\n",
       "    </tr>\n",
       "    <tr>\n",
       "      <th>...</th>\n",
       "      <td>...</td>\n",
       "      <td>...</td>\n",
       "      <td>...</td>\n",
       "    </tr>\n",
       "    <tr>\n",
       "      <th>886</th>\n",
       "      <td>0</td>\n",
       "      <td>27.0</td>\n",
       "      <td>13.0000</td>\n",
       "    </tr>\n",
       "    <tr>\n",
       "      <th>887</th>\n",
       "      <td>1</td>\n",
       "      <td>19.0</td>\n",
       "      <td>30.0000</td>\n",
       "    </tr>\n",
       "    <tr>\n",
       "      <th>888</th>\n",
       "      <td>0</td>\n",
       "      <td>NaN</td>\n",
       "      <td>23.4500</td>\n",
       "    </tr>\n",
       "    <tr>\n",
       "      <th>889</th>\n",
       "      <td>1</td>\n",
       "      <td>26.0</td>\n",
       "      <td>30.0000</td>\n",
       "    </tr>\n",
       "    <tr>\n",
       "      <th>890</th>\n",
       "      <td>0</td>\n",
       "      <td>32.0</td>\n",
       "      <td>7.7500</td>\n",
       "    </tr>\n",
       "  </tbody>\n",
       "</table>\n",
       "<p>891 rows × 3 columns</p>\n",
       "</div>"
      ],
      "text/plain": [
       "     Survived   Age     Fare\n",
       "0           0  22.0   7.2500\n",
       "1           1  38.0  71.2833\n",
       "2           1  26.0   7.9250\n",
       "3           1  35.0  53.1000\n",
       "4           0  35.0   8.0500\n",
       "..        ...   ...      ...\n",
       "886         0  27.0  13.0000\n",
       "887         1  19.0  30.0000\n",
       "888         0   NaN  23.4500\n",
       "889         1  26.0  30.0000\n",
       "890         0  32.0   7.7500\n",
       "\n",
       "[891 rows x 3 columns]"
      ]
     },
     "execution_count": 210,
     "metadata": {},
     "output_type": "execute_result"
    }
   ],
   "source": [
    "df = pd.read_csv('titanic.csv')\n",
    "df = df.drop(columns=['PassengerId', 'Pclass', 'Name', 'Sex',\n",
    "             'SibSp', 'Parch', 'Ticket', 'Cabin', 'Embarked'], axis=1)\n",
    "df\n"
   ]
  },
  {
   "cell_type": "code",
   "execution_count": 211,
   "metadata": {},
   "outputs": [
    {
     "data": {
      "text/plain": [
       "Survived      0\n",
       "Age         177\n",
       "Fare          0\n",
       "dtype: int64"
      ]
     },
     "execution_count": 211,
     "metadata": {},
     "output_type": "execute_result"
    }
   ],
   "source": [
    "df.isnull().sum()\n"
   ]
  },
  {
   "cell_type": "markdown",
   "metadata": {},
   "source": [
    "# Bài 1\n"
   ]
  },
  {
   "cell_type": "code",
   "execution_count": 212,
   "metadata": {},
   "outputs": [],
   "source": [
    "result = np.zeros((14, 11))\n",
    "index = 0\n"
   ]
  },
  {
   "cell_type": "code",
   "execution_count": 213,
   "metadata": {},
   "outputs": [],
   "source": [
    "def logistic_regression(titanic_data, test_size=0.3, random_state=0):\n",
    "    X = titanic_data.drop(columns='Survived', axis=1)\n",
    "    Y = titanic_data['Survived']\n",
    "\n",
    "    X_train, X_test, Y_train, Y_test = train_test_split(\n",
    "        X, Y, test_size=test_size, random_state=random_state)\n",
    "    # print(X.shape, X_train.shape, X_test.shape)\n",
    "\n",
    "    model = LogisticRegression()\n",
    "    model.fit(X_train, Y_train)\n",
    "\n",
    "    X_train_prediction = model.predict(X_train)\n",
    "    training_data_accuracy = accuracy_score(Y_train, X_train_prediction)\n",
    "    # print('Accuracy score of training data : ', training_data_accuracy)\n",
    "\n",
    "    X_test_prediction = model.predict(X_test)\n",
    "    test_data_accuracy = accuracy_score(Y_test, X_test_prediction)\n",
    "    # print('Accuracy score of test data : ', test_data_accuracy)\n",
    "    return test_data_accuracy\n"
   ]
  },
  {
   "cell_type": "code",
   "execution_count": 214,
   "metadata": {},
   "outputs": [],
   "source": [
    "def write_result(titanic_data):\n",
    "    global index\n",
    "    for i in range(10):\n",
    "        result[index][i] = logistic_regression(\n",
    "            titanic_data=titanic_data, random_state=i)\n",
    "    result[index][10] = np.mean(result[index][0:9])\n",
    "    index += 1\n"
   ]
  },
  {
   "cell_type": "code",
   "execution_count": 215,
   "metadata": {},
   "outputs": [],
   "source": [
    "def outliers(titanic_data):\n",
    "    lower_boundary = titanic_data['Age'].mean() - 3 * titanic_data['Age'].std()\n",
    "    upper_boundary = titanic_data['Age'].mean(\n",
    "    ) + 3 * titanic_data['Age'].std()\n",
    "    titanic_data.loc[titanic_data['Age'] >= int(\n",
    "        upper_boundary), 'Age'] = int(upper_boundary)\n",
    "\n",
    "    IQR = titanic_data.Fare.quantile(0.75) - titanic_data.Fare.quantile(0.25)\n",
    "    lower_bridge = titanic_data['Fare'].quantile(0.25) - (IQR*3)\n",
    "    upper_bridge = titanic_data['Fare'].quantile(0.75) + (IQR*3)\n",
    "    titanic_data.loc[titanic_data['Fare'] >= int(\n",
    "        upper_bridge), 'Fare'] = int(upper_bridge)\n",
    "\n",
    "    return titanic_data\n"
   ]
  },
  {
   "cell_type": "code",
   "execution_count": 216,
   "metadata": {},
   "outputs": [],
   "source": [
    "def plotFigure(titanic_data: pd.DataFrame, text: str):\n",
    "    fig = plt.figure()\n",
    "    ax = fig.add_subplot(111)\n",
    "    df['Age'].plot(kind='kde', color='blue')\n",
    "    titanic_data['Age'].plot(kind='kde', color='red')\n",
    "    lines, _ = ax.get_legend_handles_labels()\n",
    "    labels = ['Age', text]\n",
    "    ax.legend(lines, labels, loc='best')"
   ]
  },
  {
   "cell_type": "markdown",
   "metadata": {},
   "source": [
    "## Mean\n"
   ]
  },
  {
   "cell_type": "code",
   "execution_count": 217,
   "metadata": {},
   "outputs": [
    {
     "data": {
      "text/plain": [
       "Survived    0\n",
       "Age         0\n",
       "Fare        0\n",
       "dtype: int64"
      ]
     },
     "execution_count": 217,
     "metadata": {},
     "output_type": "execute_result"
    }
   ],
   "source": [
    "titanic_data = df.copy()\n",
    "titanic_data['Age'].fillna(titanic_data['Age'].mean(), inplace=True)\n",
    "titanic_data.isnull().sum()\n"
   ]
  },
  {
   "cell_type": "code",
   "execution_count": 218,
   "metadata": {},
   "outputs": [
    {
     "data": {
      "image/png": "[encoded data removed]",
      "text/plain": [
       "<Figure size 432x288 with 1 Axes>"
      ]
     },
     "metadata": {
      "needs_background": "light"
     },
     "output_type": "display_data"
    }
   ],
   "source": [
    "plotFigure(titanic_data, 'Age mean')"
   ]
  },
  {
   "cell_type": "code",
   "execution_count": 219,
   "metadata": {},
   "outputs": [],
   "source": [
    "write_result(titanic_data)\n",
    "titanic_data = outliers(titanic_data)\n",
    "write_result(titanic_data)\n"
   ]
  },
  {
   "cell_type": "code",
   "execution_count": 220,
   "metadata": {},
   "outputs": [],
   "source": [
    "# plotFigure('Age mean outliers')"
   ]
  },
  {
   "cell_type": "markdown",
   "metadata": {},
   "source": [
    "## Median\n"
   ]
  },
  {
   "cell_type": "code",
   "execution_count": 221,
   "metadata": {},
   "outputs": [
    {
     "data": {
      "text/plain": [
       "Survived    0\n",
       "Age         0\n",
       "Fare        0\n",
       "dtype: int64"
      ]
     },
     "execution_count": 221,
     "metadata": {},
     "output_type": "execute_result"
    }
   ],
   "source": [
    "titanic_data = df.copy()\n",
    "titanic_data['Age'].fillna(titanic_data['Age'].median(), inplace=True)\n",
    "titanic_data.isnull().sum()\n"
   ]
  },
  {
   "cell_type": "code",
   "execution_count": 222,
   "metadata": {},
   "outputs": [
    {
     "data": {
      "image/png": "[encoded data removed]",
      "text/plain": [
       "<Figure size 432x288 with 1 Axes>"
      ]
     },
     "metadata": {
      "needs_background": "light"
     },
     "output_type": "display_data"
    }
   ],
   "source": [
    "plotFigure(titanic_data, 'Age median')"
   ]
  },
  {
   "cell_type": "code",
   "execution_count": 223,
   "metadata": {},
   "outputs": [],
   "source": [
    "write_result(titanic_data)\n",
    "titanic_data = outliers(titanic_data)\n",
    "write_result(titanic_data)\n"
   ]
  },
  {
   "cell_type": "markdown",
   "metadata": {},
   "source": [
    "## Mode\n"
   ]
  },
  {
   "cell_type": "code",
   "execution_count": 224,
   "metadata": {},
   "outputs": [
    {
     "data": {
      "text/plain": [
       "Survived    0\n",
       "Age         0\n",
       "Fare        0\n",
       "dtype: int64"
      ]
     },
     "execution_count": 224,
     "metadata": {},
     "output_type": "execute_result"
    }
   ],
   "source": [
    "titanic_data = df.copy()\n",
    "titanic_data['Age'].fillna(titanic_data['Age'].mode()[0], inplace=True)\n",
    "titanic_data.isnull().sum()\n"
   ]
  },
  {
   "cell_type": "code",
   "execution_count": 225,
   "metadata": {},
   "outputs": [
    {
     "data": {
      "image/png": "[encoded data removed]",
      "text/plain": [
       "<Figure size 432x288 with 1 Axes>"
      ]
     },
     "metadata": {
      "needs_background": "light"
     },
     "output_type": "display_data"
    }
   ],
   "source": [
    "plotFigure(titanic_data, 'Age mode')"
   ]
  },
  {
   "cell_type": "code",
   "execution_count": 226,
   "metadata": {},
   "outputs": [],
   "source": [
    "write_result(titanic_data)\n",
    "titanic_data = outliers(titanic_data)\n",
    "write_result(titanic_data)\n"
   ]
  },
  {
   "cell_type": "markdown",
   "metadata": {},
   "source": [
    "## Random\n"
   ]
  },
  {
   "cell_type": "code",
   "execution_count": 227,
   "metadata": {},
   "outputs": [
    {
     "data": {
      "text/plain": [
       "Survived    0\n",
       "Age         0\n",
       "Fare        0\n",
       "dtype: int64"
      ]
     },
     "execution_count": 227,
     "metadata": {},
     "output_type": "execute_result"
    }
   ],
   "source": [
    "titanic_data = df.copy()\n",
    "random_samples = titanic_data['Age'].dropna().sample(\n",
    "    n=titanic_data['Age'].isnull().sum(), random_state=0)\n",
    "random_samples.index = titanic_data[titanic_data['Age'].isnull()].index\n",
    "titanic_data.loc[titanic_data['Age'].isnull(), 'Age'] = random_samples\n",
    "titanic_data.isnull().sum()\n"
   ]
  },
  {
   "cell_type": "code",
   "execution_count": 228,
   "metadata": {},
   "outputs": [
    {
     "data": {
      "image/png": "[encoded data removed]",
      "text/plain": [
       "<Figure size 432x288 with 1 Axes>"
      ]
     },
     "metadata": {
      "needs_background": "light"
     },
     "output_type": "display_data"
    }
   ],
   "source": [
    "plotFigure(titanic_data, 'Age random')"
   ]
  },
  {
   "cell_type": "code",
   "execution_count": 229,
   "metadata": {},
   "outputs": [],
   "source": [
    "write_result(titanic_data)\n",
    "titanic_data = outliers(titanic_data)\n",
    "write_result(titanic_data)\n"
   ]
  },
  {
   "cell_type": "markdown",
   "metadata": {},
   "source": [
    "## End of dist\n"
   ]
  },
  {
   "cell_type": "code",
   "execution_count": 230,
   "metadata": {},
   "outputs": [
    {
     "data": {
      "text/plain": [
       "Survived    0\n",
       "Age         0\n",
       "Fare        0\n",
       "dtype: int64"
      ]
     },
     "execution_count": 230,
     "metadata": {},
     "output_type": "execute_result"
    }
   ],
   "source": [
    "titanic_data = df.copy()\n",
    "extreme = titanic_data.Age.mean() + 3*titanic_data.Age.std()\n",
    "titanic_data['Age'] = titanic_data['Age'].fillna(extreme)\n",
    "titanic_data.isnull().sum()\n"
   ]
  },
  {
   "cell_type": "code",
   "execution_count": 231,
   "metadata": {},
   "outputs": [
    {
     "data": {
      "image/png": "[encoded data removed]",
      "text/plain": [
       "<Figure size 432x288 with 1 Axes>"
      ]
     },
     "metadata": {
      "needs_background": "light"
     },
     "output_type": "display_data"
    }
   ],
   "source": [
    "plotFigure(titanic_data, 'Age end of dist')"
   ]
  },
  {
   "cell_type": "code",
   "execution_count": 232,
   "metadata": {},
   "outputs": [],
   "source": [
    "write_result(titanic_data)\n",
    "titanic_data = outliers(titanic_data)\n",
    "write_result(titanic_data)\n"
   ]
  },
  {
   "cell_type": "markdown",
   "metadata": {},
   "source": [
    "## Arbitrary value\n"
   ]
  },
  {
   "cell_type": "code",
   "execution_count": 233,
   "metadata": {},
   "outputs": [
    {
     "data": {
      "text/plain": [
       "Survived    0\n",
       "Age         0\n",
       "Fare        0\n",
       "dtype: int64"
      ]
     },
     "execution_count": 233,
     "metadata": {},
     "output_type": "execute_result"
    }
   ],
   "source": [
    "value = 50\n",
    "titanic_data = df.copy()\n",
    "titanic_data['Age'] = titanic_data['Age'].fillna(value)\n",
    "titanic_data.isnull().sum()\n"
   ]
  },
  {
   "cell_type": "code",
   "execution_count": 234,
   "metadata": {},
   "outputs": [
    {
     "data": {
      "image/png": "[encoded data removed]",
      "text/plain": [
       "<Figure size 432x288 with 1 Axes>"
      ]
     },
     "metadata": {
      "needs_background": "light"
     },
     "output_type": "display_data"
    }
   ],
   "source": [
    "plotFigure(titanic_data, 'Age arbitrary value')"
   ]
  },
  {
   "cell_type": "code",
   "execution_count": 235,
   "metadata": {},
   "outputs": [],
   "source": [
    "write_result(titanic_data)\n",
    "titanic_data = outliers(titanic_data)\n",
    "write_result(titanic_data)\n"
   ]
  },
  {
   "cell_type": "markdown",
   "metadata": {},
   "source": [
    "## New feature\n"
   ]
  },
  {
   "cell_type": "code",
   "execution_count": 236,
   "metadata": {},
   "outputs": [
    {
     "data": {
      "text/plain": [
       "Survived    0\n",
       "Age         0\n",
       "Fare        0\n",
       "Age_NAN     0\n",
       "dtype: int64"
      ]
     },
     "execution_count": 236,
     "metadata": {},
     "output_type": "execute_result"
    }
   ],
   "source": [
    "titanic_data = df.copy()\n",
    "titanic_data['Age_NAN'] = np.where(titanic_data['Age'].isnull(), 1, 0)\n",
    "titanic_data['Age'].fillna(titanic_data.Age.median(), inplace=True)\n",
    "titanic_data.isnull().sum()\n"
   ]
  },
  {
   "cell_type": "code",
   "execution_count": 237,
   "metadata": {},
   "outputs": [
    {
     "data": {
      "image/png": "[encoded data removed]",
      "text/plain": [
       "<Figure size 432x288 with 1 Axes>"
      ]
     },
     "metadata": {
      "needs_background": "light"
     },
     "output_type": "display_data"
    }
   ],
   "source": [
    "plotFigure(titanic_data, 'Age new feature')\n"
   ]
  },
  {
   "cell_type": "code",
   "execution_count": 238,
   "metadata": {},
   "outputs": [],
   "source": [
    "write_result(titanic_data)\n",
    "titanic_data = outliers(titanic_data)\n",
    "write_result(titanic_data)\n"
   ]
  },
  {
   "cell_type": "code",
   "execution_count": 239,
   "metadata": {},
   "outputs": [
    {
     "data": {
      "text/html": [
       "<div>\n",
       "<style scoped>\n",
       "    .dataframe tbody tr th:only-of-type {\n",
       "        vertical-align: middle;\n",
       "    }\n",
       "\n",
       "    .dataframe tbody tr th {\n",
       "        vertical-align: top;\n",
       "    }\n",
       "\n",
       "    .dataframe thead th {\n",
       "        text-align: right;\n",
       "    }\n",
       "</style>\n",
       "<table border=\"1\" class=\"dataframe\">\n",
       "  <thead>\n",
       "    <tr style=\"text-align: right;\">\n",
       "      <th></th>\n",
       "      <th>0</th>\n",
       "      <th>1</th>\n",
       "      <th>2</th>\n",
       "      <th>3</th>\n",
       "      <th>4</th>\n",
       "      <th>5</th>\n",
       "      <th>6</th>\n",
       "      <th>7</th>\n",
       "      <th>8</th>\n",
       "      <th>9</th>\n",
       "      <th>Mean</th>\n",
       "    </tr>\n",
       "  </thead>\n",
       "  <tbody>\n",
       "    <tr>\n",
       "      <th>Mean</th>\n",
       "      <td>0.686567</td>\n",
       "      <td>0.619403</td>\n",
       "      <td>0.656716</td>\n",
       "      <td>0.641791</td>\n",
       "      <td>0.675373</td>\n",
       "      <td>0.645522</td>\n",
       "      <td>0.686567</td>\n",
       "      <td>0.630597</td>\n",
       "      <td>0.656716</td>\n",
       "      <td>0.630597</td>\n",
       "      <td>0.655473</td>\n",
       "    </tr>\n",
       "    <tr>\n",
       "      <th>Mean outliers</th>\n",
       "      <td>0.697761</td>\n",
       "      <td>0.623134</td>\n",
       "      <td>0.686567</td>\n",
       "      <td>0.623134</td>\n",
       "      <td>0.667910</td>\n",
       "      <td>0.694030</td>\n",
       "      <td>0.712687</td>\n",
       "      <td>0.660448</td>\n",
       "      <td>0.667910</td>\n",
       "      <td>0.638060</td>\n",
       "      <td>0.670398</td>\n",
       "    </tr>\n",
       "    <tr>\n",
       "      <th>Median</th>\n",
       "      <td>0.686567</td>\n",
       "      <td>0.623134</td>\n",
       "      <td>0.656716</td>\n",
       "      <td>0.645522</td>\n",
       "      <td>0.675373</td>\n",
       "      <td>0.638060</td>\n",
       "      <td>0.682836</td>\n",
       "      <td>0.634328</td>\n",
       "      <td>0.656716</td>\n",
       "      <td>0.634328</td>\n",
       "      <td>0.655473</td>\n",
       "    </tr>\n",
       "    <tr>\n",
       "      <th>Median outliers</th>\n",
       "      <td>0.701493</td>\n",
       "      <td>0.623134</td>\n",
       "      <td>0.682836</td>\n",
       "      <td>0.623134</td>\n",
       "      <td>0.667910</td>\n",
       "      <td>0.694030</td>\n",
       "      <td>0.712687</td>\n",
       "      <td>0.660448</td>\n",
       "      <td>0.667910</td>\n",
       "      <td>0.638060</td>\n",
       "      <td>0.670398</td>\n",
       "    </tr>\n",
       "    <tr>\n",
       "      <th>Mode</th>\n",
       "      <td>0.694030</td>\n",
       "      <td>0.623134</td>\n",
       "      <td>0.649254</td>\n",
       "      <td>0.641791</td>\n",
       "      <td>0.679104</td>\n",
       "      <td>0.649254</td>\n",
       "      <td>0.679104</td>\n",
       "      <td>0.623134</td>\n",
       "      <td>0.656716</td>\n",
       "      <td>0.638060</td>\n",
       "      <td>0.655058</td>\n",
       "    </tr>\n",
       "    <tr>\n",
       "      <th>Mode outliers</th>\n",
       "      <td>0.694030</td>\n",
       "      <td>0.626866</td>\n",
       "      <td>0.686567</td>\n",
       "      <td>0.623134</td>\n",
       "      <td>0.656716</td>\n",
       "      <td>0.694030</td>\n",
       "      <td>0.705224</td>\n",
       "      <td>0.660448</td>\n",
       "      <td>0.667910</td>\n",
       "      <td>0.638060</td>\n",
       "      <td>0.668325</td>\n",
       "    </tr>\n",
       "    <tr>\n",
       "      <th>Random</th>\n",
       "      <td>0.694030</td>\n",
       "      <td>0.626866</td>\n",
       "      <td>0.656716</td>\n",
       "      <td>0.626866</td>\n",
       "      <td>0.679104</td>\n",
       "      <td>0.652985</td>\n",
       "      <td>0.682836</td>\n",
       "      <td>0.626866</td>\n",
       "      <td>0.660448</td>\n",
       "      <td>0.638060</td>\n",
       "      <td>0.656302</td>\n",
       "    </tr>\n",
       "    <tr>\n",
       "      <th>Random outliers</th>\n",
       "      <td>0.701493</td>\n",
       "      <td>0.638060</td>\n",
       "      <td>0.686567</td>\n",
       "      <td>0.615672</td>\n",
       "      <td>0.664179</td>\n",
       "      <td>0.697761</td>\n",
       "      <td>0.705224</td>\n",
       "      <td>0.664179</td>\n",
       "      <td>0.667910</td>\n",
       "      <td>0.634328</td>\n",
       "      <td>0.671227</td>\n",
       "    </tr>\n",
       "    <tr>\n",
       "      <th>End of dist</th>\n",
       "      <td>0.694030</td>\n",
       "      <td>0.630597</td>\n",
       "      <td>0.664179</td>\n",
       "      <td>0.626866</td>\n",
       "      <td>0.701493</td>\n",
       "      <td>0.671642</td>\n",
       "      <td>0.697761</td>\n",
       "      <td>0.638060</td>\n",
       "      <td>0.667910</td>\n",
       "      <td>0.645522</td>\n",
       "      <td>0.665837</td>\n",
       "    </tr>\n",
       "    <tr>\n",
       "      <th>End of dist outliers</th>\n",
       "      <td>0.701493</td>\n",
       "      <td>0.630597</td>\n",
       "      <td>0.682836</td>\n",
       "      <td>0.623134</td>\n",
       "      <td>0.656716</td>\n",
       "      <td>0.679104</td>\n",
       "      <td>0.705224</td>\n",
       "      <td>0.671642</td>\n",
       "      <td>0.667910</td>\n",
       "      <td>0.645522</td>\n",
       "      <td>0.668740</td>\n",
       "    </tr>\n",
       "    <tr>\n",
       "      <th>Arbitrary value</th>\n",
       "      <td>0.694030</td>\n",
       "      <td>0.626866</td>\n",
       "      <td>0.660448</td>\n",
       "      <td>0.638060</td>\n",
       "      <td>0.697761</td>\n",
       "      <td>0.656716</td>\n",
       "      <td>0.705224</td>\n",
       "      <td>0.630597</td>\n",
       "      <td>0.664179</td>\n",
       "      <td>0.645522</td>\n",
       "      <td>0.663765</td>\n",
       "    </tr>\n",
       "    <tr>\n",
       "      <th>Arbitrary value outliers</th>\n",
       "      <td>0.690299</td>\n",
       "      <td>0.626866</td>\n",
       "      <td>0.675373</td>\n",
       "      <td>0.615672</td>\n",
       "      <td>0.656716</td>\n",
       "      <td>0.679104</td>\n",
       "      <td>0.712687</td>\n",
       "      <td>0.649254</td>\n",
       "      <td>0.671642</td>\n",
       "      <td>0.638060</td>\n",
       "      <td>0.664179</td>\n",
       "    </tr>\n",
       "    <tr>\n",
       "      <th>New feature</th>\n",
       "      <td>0.694030</td>\n",
       "      <td>0.626866</td>\n",
       "      <td>0.660448</td>\n",
       "      <td>0.634328</td>\n",
       "      <td>0.697761</td>\n",
       "      <td>0.656716</td>\n",
       "      <td>0.694030</td>\n",
       "      <td>0.623134</td>\n",
       "      <td>0.667910</td>\n",
       "      <td>0.645522</td>\n",
       "      <td>0.661692</td>\n",
       "    </tr>\n",
       "    <tr>\n",
       "      <th>New feature outliers</th>\n",
       "      <td>0.690299</td>\n",
       "      <td>0.626866</td>\n",
       "      <td>0.682836</td>\n",
       "      <td>0.615672</td>\n",
       "      <td>0.656716</td>\n",
       "      <td>0.686567</td>\n",
       "      <td>0.712687</td>\n",
       "      <td>0.649254</td>\n",
       "      <td>0.671642</td>\n",
       "      <td>0.641791</td>\n",
       "      <td>0.665837</td>\n",
       "    </tr>\n",
       "  </tbody>\n",
       "</table>\n",
       "</div>"
      ],
      "text/plain": [
       "                                 0         1         2         3         4  \\\n",
       "Mean                      0.686567  0.619403  0.656716  0.641791  0.675373   \n",
       "Mean outliers             0.697761  0.623134  0.686567  0.623134  0.667910   \n",
       "Median                    0.686567  0.623134  0.656716  0.645522  0.675373   \n",
       "Median outliers           0.701493  0.623134  0.682836  0.623134  0.667910   \n",
       "Mode                      0.694030  0.623134  0.649254  0.641791  0.679104   \n",
       "Mode outliers             0.694030  0.626866  0.686567  0.623134  0.656716   \n",
       "Random                    0.694030  0.626866  0.656716  0.626866  0.679104   \n",
       "Random outliers           0.701493  0.638060  0.686567  0.615672  0.664179   \n",
       "End of dist               0.694030  0.630597  0.664179  0.626866  0.701493   \n",
       "End of dist outliers      0.701493  0.630597  0.682836  0.623134  0.656716   \n",
       "Arbitrary value           0.694030  0.626866  0.660448  0.638060  0.697761   \n",
       "Arbitrary value outliers  0.690299  0.626866  0.675373  0.615672  0.656716   \n",
       "New feature               0.694030  0.626866  0.660448  0.634328  0.697761   \n",
       "New feature outliers      0.690299  0.626866  0.682836  0.615672  0.656716   \n",
       "\n",
       "                                 5         6         7         8         9  \\\n",
       "Mean                      0.645522  0.686567  0.630597  0.656716  0.630597   \n",
       "Mean outliers             0.694030  0.712687  0.660448  0.667910  0.638060   \n",
       "Median                    0.638060  0.682836  0.634328  0.656716  0.634328   \n",
       "Median outliers           0.694030  0.712687  0.660448  0.667910  0.638060   \n",
       "Mode                      0.649254  0.679104  0.623134  0.656716  0.638060   \n",
       "Mode outliers             0.694030  0.705224  0.660448  0.667910  0.638060   \n",
       "Random                    0.652985  0.682836  0.626866  0.660448  0.638060   \n",
       "Random outliers           0.697761  0.705224  0.664179  0.667910  0.634328   \n",
       "End of dist               0.671642  0.697761  0.638060  0.667910  0.645522   \n",
       "End of dist outliers      0.679104  0.705224  0.671642  0.667910  0.645522   \n",
       "Arbitrary value           0.656716  0.705224  0.630597  0.664179  0.645522   \n",
       "Arbitrary value outliers  0.679104  0.712687  0.649254  0.671642  0.638060   \n",
       "New feature               0.656716  0.694030  0.623134  0.667910  0.645522   \n",
       "New feature outliers      0.686567  0.712687  0.649254  0.671642  0.641791   \n",
       "\n",
       "                              Mean  \n",
       "Mean                      0.655473  \n",
       "Mean outliers             0.670398  \n",
       "Median                    0.655473  \n",
       "Median outliers           0.670398  \n",
       "Mode                      0.655058  \n",
       "Mode outliers             0.668325  \n",
       "Random                    0.656302  \n",
       "Random outliers           0.671227  \n",
       "End of dist               0.665837  \n",
       "End of dist outliers      0.668740  \n",
       "Arbitrary value           0.663765  \n",
       "Arbitrary value outliers  0.664179  \n",
       "New feature               0.661692  \n",
       "New feature outliers      0.665837  "
      ]
     },
     "execution_count": 239,
     "metadata": {},
     "output_type": "execute_result"
    }
   ],
   "source": [
    "result_df = pd.DataFrame(result, index=['Mean', 'Mean outliers', 'Median', 'Median outliers', 'Mode', 'Mode outliers',\n",
    "                                        'Random', 'Random outliers', 'End of dist', 'End of dist outliers', 'Arbitrary value',\n",
    "                                        'Arbitrary value outliers', 'New feature', 'New feature outliers'],\n",
    "                         columns=[0, 1, 2, 3, 4, 5, 6, 7, 8, 9, 'Mean'])\n",
    "result_df\n"
   ]
  },
  {
   "cell_type": "markdown",
   "metadata": {},
   "source": [
    "Kết luận: Độ chính xác trung bình cao nhất là 0.671227 trong trường hợp xử lí dữ liệu có xử lí ngoại lệ bằng phương pháp random với random state bằng 0; thấp nhất là 0.655058 trong trường hợp xử lí dữ liệu bằng mode.\n"
   ]
  },
  {
   "cell_type": "markdown",
   "metadata": {},
   "source": [
    "# Bài 2\n"
   ]
  },
  {
   "cell_type": "code",
   "execution_count": 240,
   "metadata": {},
   "outputs": [],
   "source": [
    "def calculate_test_accuracy_mean(df):\n",
    "    temp = np.zeros(10)\n",
    "    for i in range(10):\n",
    "        temp[i] = logistic_regression(titanic_data=df, random_state=i)\n",
    "    return temp.mean()\n"
   ]
  },
  {
   "cell_type": "markdown",
   "metadata": {},
   "source": [
    "## Standard Scale\n"
   ]
  },
  {
   "cell_type": "code",
   "execution_count": 241,
   "metadata": {},
   "outputs": [
    {
     "data": {
      "text/plain": [
       "Survived      0\n",
       "Age         177\n",
       "Fare          0\n",
       "dtype: int64"
      ]
     },
     "execution_count": 241,
     "metadata": {},
     "output_type": "execute_result"
    }
   ],
   "source": [
    "scaled_df = df.copy()\n",
    "scaled_df.isnull().sum()\n"
   ]
  },
  {
   "cell_type": "code",
   "execution_count": 242,
   "metadata": {},
   "outputs": [
    {
     "data": {
      "text/plain": [
       "Survived    0\n",
       "Age         0\n",
       "Fare        0\n",
       "dtype: int64"
      ]
     },
     "execution_count": 242,
     "metadata": {},
     "output_type": "execute_result"
    }
   ],
   "source": [
    "scaled_df = outliers(scaled_df)\n",
    "\n",
    "random_samples = scaled_df['Age'].dropna().sample(\n",
    "    n=scaled_df['Age'].isnull().sum(), random_state=0)\n",
    "random_samples.index = scaled_df[scaled_df['Age'].isnull()].index\n",
    "scaled_df.loc[scaled_df['Age'].isnull(), 'Age'] = random_samples\n",
    "scaled_df.isnull().sum()"
   ]
  },
  {
   "cell_type": "markdown",
   "metadata": {},
   "source": [
    "Standard Scale data\n"
   ]
  },
  {
   "cell_type": "code",
   "execution_count": 243,
   "metadata": {},
   "outputs": [],
   "source": [
    "standard_scaler = StandardScaler()\n",
    "scaled_arr = standard_scaler.fit_transform(scaled_df[['Age', 'Fare']])\n",
    "scaled_df = pd.DataFrame(scaled_arr, columns=['Age', 'Fare'])\n",
    "scaled_df['Survived'] = df['Survived']\n"
   ]
  },
  {
   "cell_type": "code",
   "execution_count": 244,
   "metadata": {},
   "outputs": [
    {
     "data": {
      "text/plain": [
       "0.6682835820895522"
      ]
     },
     "execution_count": 244,
     "metadata": {},
     "output_type": "execute_result"
    }
   ],
   "source": [
    "calculate_test_accuracy_mean(scaled_df)\n"
   ]
  },
  {
   "cell_type": "markdown",
   "metadata": {},
   "source": [
    "Nhận xét: Sau khi áp dụng chuẩn hóa dữ liệu Z-score, độ chính xác hồi quy logistic trung bình bị giảm đi 0.2943%\n"
   ]
  },
  {
   "cell_type": "markdown",
   "metadata": {},
   "source": [
    "## Minmax scale data\n"
   ]
  },
  {
   "cell_type": "code",
   "execution_count": 245,
   "metadata": {},
   "outputs": [
    {
     "data": {
      "text/plain": [
       "Survived      0\n",
       "Age         177\n",
       "Fare          0\n",
       "dtype: int64"
      ]
     },
     "execution_count": 245,
     "metadata": {},
     "output_type": "execute_result"
    }
   ],
   "source": [
    "minmax_df = df.copy()\n",
    "minmax_df.isnull().sum()\n"
   ]
  },
  {
   "cell_type": "code",
   "execution_count": 246,
   "metadata": {},
   "outputs": [
    {
     "data": {
      "text/plain": [
       "Survived    0\n",
       "Age         0\n",
       "Fare        0\n",
       "dtype: int64"
      ]
     },
     "execution_count": 246,
     "metadata": {},
     "output_type": "execute_result"
    }
   ],
   "source": [
    "minmax_df = outliers(minmax_df)\n",
    "\n",
    "random_samples = minmax_df['Age'].dropna().sample(\n",
    "    n=minmax_df['Age'].isnull().sum(), random_state=0)\n",
    "random_samples.index = minmax_df[minmax_df['Age'].isnull()].index\n",
    "minmax_df.loc[minmax_df['Age'].isnull(), 'Age'] = random_samples\n",
    "minmax_df.isnull().sum()\n"
   ]
  },
  {
   "cell_type": "code",
   "execution_count": 247,
   "metadata": {},
   "outputs": [
    {
     "data": {
      "text/plain": [
       "Survived    0\n",
       "Age         0\n",
       "Fare        0\n",
       "dtype: int64"
      ]
     },
     "execution_count": 247,
     "metadata": {},
     "output_type": "execute_result"
    }
   ],
   "source": [
    "minmax_scaler = MinMaxScaler()\n",
    "minmax_df = pd.DataFrame(\n",
    "    minmax_scaler.fit_transform(minmax_df), columns=df.columns)\n",
    "minmax_df.isnull().sum()"
   ]
  },
  {
   "cell_type": "code",
   "execution_count": 248,
   "metadata": {},
   "outputs": [
    {
     "data": {
      "text/plain": [
       "0.6686567164179105"
      ]
     },
     "execution_count": 248,
     "metadata": {},
     "output_type": "execute_result"
    }
   ],
   "source": [
    "calculate_test_accuracy_mean(minmax_df)\n"
   ]
  },
  {
   "cell_type": "markdown",
   "metadata": {},
   "source": [
    "Nhận xét: Sau khi áp dụng chuẩn hóa dữ liệu minmax, độ chính xác hồi quy logistic trung bình bị giảm đi 0.257%\n"
   ]
  },
  {
   "cell_type": "markdown",
   "metadata": {},
   "source": [
    "Nhận xét chung: Sau khi áp dụng 2 phương pháp chuẩn hóa dữ liệu, ta thấy độ chính xác không tăng lên mà còn bị giảm (giảm không đáng kể (<1%))"
   ]
  }
 ],
 "metadata": {
  "interpreter": {
   "hash": "83a8a37af132a2fa5bd73ffbd7034c1e5f9f9b0bef7ee17d2a911228df5d8f19"
  },
  "kernelspec": {
   "display_name": "Python 3.10.2 64-bit",
   "language": "python",
   "name": "python3"
  },
  "language_info": {
   "codemirror_mode": {
    "name": "ipython",
    "version": 3
   },
   "file_extension": ".py",
   "mimetype": "text/x-python",
   "name": "python",
   "nbconvert_exporter": "python",
   "pygments_lexer": "ipython3",
   "version": "3.10.2"
  },
  "orig_nbformat": 4
 },
 "nbformat": 4,
 "nbformat_minor": 2
}
